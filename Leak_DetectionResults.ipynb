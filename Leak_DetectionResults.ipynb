{
  "nbformat": 4,
  "nbformat_minor": 0,
  "metadata": {
    "colab": {
      "name": "Leak DetectionResults.ipynb",
      "provenance": [],
      "collapsed_sections": [],
      "mount_file_id": "15pcR_13PAA-d9hsY8wUOu4mjb6Yrvd0B",
      "authorship_tag": "ABX9TyMZS1YP2aOTyQgXjdzIEoGb",
      "include_colab_link": true
    },
    "kernelspec": {
      "name": "python3",
      "display_name": "Python 3"
    },
    "language_info": {
      "name": "python"
    }
  },
  "cells": [
    {
      "cell_type": "markdown",
      "metadata": {
        "id": "view-in-github",
        "colab_type": "text"
      },
      "source": [
        "<a href=\"https://colab.research.google.com/github/pafernannapi18/GithubIntro/blob/main/Leak_DetectionResults.ipynb\" target=\"_parent\"><img src=\"https://colab.research.google.com/assets/colab-badge.svg\" alt=\"Open In Colab\"/></a>"
      ]
    },
    {
      "cell_type": "code",
      "source": [
        "import numpy as np\n",
        "import pandas as pd\n",
        "from sklearn.model_selection import train_test_split\n",
        "import tensorflow.compat.v1 as tf\n",
        "tf.disable_v2_behavior()\n",
        "\n",
        "#Getting the Iris dataset and preparing the variables and target\n",
        "#data = '/content/drive/MyDrive/Train dataset/train.csv'\n",
        "data =\"/content/drive/MyDrive/leak_Data.csv\"\n",
        "df = pd.read_csv(data)\n",
        "df = df[(df[\"Condition\"] == 0)|(df[\"Condition\"] == 1)]\n",
        "y = df[\"Condition\"]\n",
        "X = df.loc[:, [\"Junc 10\", \"Junc 11\", \"Junc 12\", \"Junc 13\", \"Junc 21\", \"Junc 22\", \"Junc 23\", \"Junc 31\", \"Junc 32\",]]\n",
        "y = np.array(y)\n",
        "X = np.array(X)\n",
        "\n",
        "\n",
        "# Convert labels to numbers\n",
        "#y[y=='No-leak'] = 0\n",
        "#y[y=='leak'] = 1\n",
        "y = y.astype(np.int)[:, np.newaxis]\n",
        "\n",
        "# Split into train and test\n",
        "X_train, X_test, y_train, y_test = train_test_split(X, y, test_size=0.2, random_state=0)\n",
        "\n",
        "# Further split into train and val\n",
        "X_train, X_val, y_train, y_val = train_test_split(X_train, y_train, test_size=0.2, random_state=0)"
      ],
      "metadata": {
        "id": "yQShp61SDDtY",
        "colab": {
          "base_uri": "https://localhost:8080/"
        },
        "outputId": "ec96eb9b-5d6f-4f23-de9e-798b88f15926"
      },
      "execution_count": null,
      "outputs": [
        {
          "output_type": "stream",
          "name": "stderr",
          "text": [
            "/usr/local/lib/python3.7/dist-packages/ipykernel_launcher.py:21: DeprecationWarning: `np.int` is a deprecated alias for the builtin `int`. To silence this warning, use `int` by itself. Doing this will not modify any behavior and is safe. When replacing `np.int`, you may wish to use e.g. `np.int64` or `np.int32` to specify the precision. If you wish to review your current use, check the release note link for additional information.\n",
            "Deprecated in NumPy 1.20; for more details and guidance: https://numpy.org/devdocs/release/1.20.0-notes.html#deprecations\n"
          ]
        }
      ]
    },
    {
      "cell_type": "code",
      "execution_count": null,
      "metadata": {
        "id": "-4gP39TlxglY",
        "colab": {
          "base_uri": "https://localhost:8080/"
        },
        "outputId": "d1c2bf00-c780-49d7-c9be-72ebb318a1b4"
      },
      "outputs": [
        {
          "output_type": "stream",
          "name": "stdout",
          "text": [
            "Mounted at /content/gdrive\n"
          ]
        }
      ],
      "source": [
        "from google.colab import drive\n",
        "drive.mount('/content/gdrive')"
      ]
    },
    {
      "cell_type": "code",
      "source": [
        "import keras\n",
        "import numpy as np\n",
        "import pandas as pd"
      ],
      "metadata": {
        "id": "5Rr_3ZX_0Z1R"
      },
      "execution_count": null,
      "outputs": []
    },
    {
      "cell_type": "code",
      "source": [
        "#from google.colab import files\n",
        "#file = files.upload()"
      ],
      "metadata": {
        "id": "GDy3Zknk0hXA"
      },
      "execution_count": null,
      "outputs": []
    },
    {
      "cell_type": "code",
      "source": [
        "#!pip install pandas==0.23.4\n",
        "!pip install --upgrade pandas"
      ],
      "metadata": {
        "colab": {
          "base_uri": "https://localhost:8080/",
          "height": 346
        },
        "id": "b6hYfX-TjZdU",
        "outputId": "d965c32c-572e-4c88-ed97-1db6fcceea73"
      },
      "execution_count": null,
      "outputs": [
        {
          "output_type": "stream",
          "name": "stdout",
          "text": [
            "Requirement already satisfied: pandas in /usr/local/lib/python3.7/dist-packages (0.23.4)\n",
            "Collecting pandas\n",
            "  Downloading pandas-1.3.5-cp37-cp37m-manylinux_2_17_x86_64.manylinux2014_x86_64.whl (11.3 MB)\n",
            "\u001b[K     |████████████████████████████████| 11.3 MB 6.4 MB/s \n",
            "\u001b[?25hRequirement already satisfied: numpy>=1.17.3 in /usr/local/lib/python3.7/dist-packages (from pandas) (1.21.5)\n",
            "Requirement already satisfied: pytz>=2017.3 in /usr/local/lib/python3.7/dist-packages (from pandas) (2018.9)\n",
            "Requirement already satisfied: python-dateutil>=2.7.3 in /usr/local/lib/python3.7/dist-packages (from pandas) (2.8.2)\n",
            "Requirement already satisfied: six>=1.5 in /usr/local/lib/python3.7/dist-packages (from python-dateutil>=2.7.3->pandas) (1.15.0)\n",
            "Installing collected packages: pandas\n",
            "  Attempting uninstall: pandas\n",
            "    Found existing installation: pandas 0.23.4\n",
            "    Uninstalling pandas-0.23.4:\n",
            "      Successfully uninstalled pandas-0.23.4\n",
            "Successfully installed pandas-1.3.5\n"
          ]
        },
        {
          "output_type": "display_data",
          "data": {
            "application/vnd.colab-display-data+json": {
              "pip_warning": {
                "packages": [
                  "pandas"
                ]
              }
            }
          },
          "metadata": {}
        }
      ]
    },
    {
      "cell_type": "code",
      "source": [
        "import pandas as pd\n",
        "pd.__version__"
      ],
      "metadata": {
        "colab": {
          "base_uri": "https://localhost:8080/",
          "height": 35
        },
        "id": "f8i4lY7HjTmL",
        "outputId": "ff6f14b5-b306-4c3d-f836-841dd6abda0f"
      },
      "execution_count": null,
      "outputs": [
        {
          "output_type": "execute_result",
          "data": {
            "application/vnd.google.colaboratory.intrinsic+json": {
              "type": "string"
            },
            "text/plain": [
              "'1.3.5'"
            ]
          },
          "metadata": {},
          "execution_count": 38
        }
      ]
    },
    {
      "cell_type": "markdown",
      "source": [
        "Upload widget is only available when the cell has been executed in the current browser session. Please rerun this cell to enable."
      ],
      "metadata": {
        "id": "ziIJbyDh0oRk"
      }
    },
    {
      "cell_type": "code",
      "source": [
        "\n",
        "# #!pip install openpyxl --upgrade --pre\n",
        "\n",
        "# x_train = pd.read_excel('/content/x_train.xlsx')\n",
        "# y_train = pd.read_excel('/content/y_train.xlsx')\n",
        "# x_test = pd.read_excel('/content/x_test.xlsx')\n",
        "# y_test = pd.read_excel('/content/y_test.xlsx')"
      ],
      "metadata": {
        "id": "GzpfFpks0o44"
      },
      "execution_count": null,
      "outputs": []
    },
    {
      "cell_type": "code",
      "source": [
        "X_train"
      ],
      "metadata": {
        "id": "zJaylJcu0tVI",
        "colab": {
          "base_uri": "https://localhost:8080/"
        },
        "outputId": "fbdd5245-1ab8-4008-ea0c-0dd85cb3439a"
      },
      "execution_count": null,
      "outputs": [
        {
          "output_type": "execute_result",
          "data": {
            "text/plain": [
              "array([[129.96, 122.01, 120.53, ..., 123.67, 117.88, 112.76],\n",
              "       [127.54, 119.26, 117.02, ..., 120.74, 115.86, 110.79],\n",
              "       [124.78, 116.12, 115.83, ..., 113.63,  88.34,  36.12],\n",
              "       ...,\n",
              "       [130.28, 122.37, 121.4 , ..., 123.82, 117.13, 111.89],\n",
              "       [120.03, 110.72, 109.48, ..., 102.73, 101.5 ,  95.9 ],\n",
              "       [122.77, 113.83, 113.77, ...,  87.8 , 100.85,  94.46]])"
            ]
          },
          "metadata": {},
          "execution_count": 40
        }
      ]
    },
    {
      "cell_type": "code",
      "source": [
        "y_train"
      ],
      "metadata": {
        "id": "ncEe4gM00vqY",
        "colab": {
          "base_uri": "https://localhost:8080/"
        },
        "outputId": "833f3b31-9561-497d-8d6f-a546f90446ee"
      },
      "execution_count": null,
      "outputs": [
        {
          "output_type": "execute_result",
          "data": {
            "text/plain": [
              "array([[0],\n",
              "       [0],\n",
              "       [1],\n",
              "       [0],\n",
              "       [1],\n",
              "       [1],\n",
              "       [0],\n",
              "       [1],\n",
              "       [0],\n",
              "       [0],\n",
              "       [0],\n",
              "       [0],\n",
              "       [0],\n",
              "       [0],\n",
              "       [0],\n",
              "       [1],\n",
              "       [1],\n",
              "       [0],\n",
              "       [1],\n",
              "       [0],\n",
              "       [1],\n",
              "       [0],\n",
              "       [1],\n",
              "       [1],\n",
              "       [1],\n",
              "       [0],\n",
              "       [0],\n",
              "       [0],\n",
              "       [0],\n",
              "       [1],\n",
              "       [1],\n",
              "       [1],\n",
              "       [1],\n",
              "       [1],\n",
              "       [0],\n",
              "       [1],\n",
              "       [1],\n",
              "       [0],\n",
              "       [0],\n",
              "       [0],\n",
              "       [0],\n",
              "       [1],\n",
              "       [0],\n",
              "       [1],\n",
              "       [1],\n",
              "       [1],\n",
              "       [0],\n",
              "       [1],\n",
              "       [0],\n",
              "       [0],\n",
              "       [1],\n",
              "       [1],\n",
              "       [1],\n",
              "       [1],\n",
              "       [0],\n",
              "       [1],\n",
              "       [0],\n",
              "       [0],\n",
              "       [0],\n",
              "       [0],\n",
              "       [1],\n",
              "       [0],\n",
              "       [0],\n",
              "       [0],\n",
              "       [0],\n",
              "       [1],\n",
              "       [1],\n",
              "       [0],\n",
              "       [0],\n",
              "       [0],\n",
              "       [1],\n",
              "       [0],\n",
              "       [0],\n",
              "       [0],\n",
              "       [1],\n",
              "       [0],\n",
              "       [0],\n",
              "       [0],\n",
              "       [1],\n",
              "       [0],\n",
              "       [1],\n",
              "       [1],\n",
              "       [1],\n",
              "       [0],\n",
              "       [1],\n",
              "       [1],\n",
              "       [1],\n",
              "       [1],\n",
              "       [1],\n",
              "       [0],\n",
              "       [0],\n",
              "       [1],\n",
              "       [0],\n",
              "       [1],\n",
              "       [0],\n",
              "       [0],\n",
              "       [0],\n",
              "       [0],\n",
              "       [0],\n",
              "       [0],\n",
              "       [1],\n",
              "       [0],\n",
              "       [1],\n",
              "       [1],\n",
              "       [0],\n",
              "       [1],\n",
              "       [1],\n",
              "       [1],\n",
              "       [0],\n",
              "       [0],\n",
              "       [1],\n",
              "       [1],\n",
              "       [1],\n",
              "       [0],\n",
              "       [0],\n",
              "       [1],\n",
              "       [1],\n",
              "       [1],\n",
              "       [1],\n",
              "       [1],\n",
              "       [0],\n",
              "       [1],\n",
              "       [1],\n",
              "       [1],\n",
              "       [1],\n",
              "       [0],\n",
              "       [1],\n",
              "       [1],\n",
              "       [0],\n",
              "       [0],\n",
              "       [1],\n",
              "       [1],\n",
              "       [0],\n",
              "       [0],\n",
              "       [1],\n",
              "       [0],\n",
              "       [1],\n",
              "       [1],\n",
              "       [0],\n",
              "       [0],\n",
              "       [0],\n",
              "       [0],\n",
              "       [0],\n",
              "       [0],\n",
              "       [0],\n",
              "       [0],\n",
              "       [1],\n",
              "       [1],\n",
              "       [1],\n",
              "       [1],\n",
              "       [1],\n",
              "       [1],\n",
              "       [1],\n",
              "       [0],\n",
              "       [0],\n",
              "       [0],\n",
              "       [0],\n",
              "       [0],\n",
              "       [0],\n",
              "       [0],\n",
              "       [0],\n",
              "       [1],\n",
              "       [1],\n",
              "       [0],\n",
              "       [0],\n",
              "       [1],\n",
              "       [1],\n",
              "       [0],\n",
              "       [0],\n",
              "       [1],\n",
              "       [0],\n",
              "       [0],\n",
              "       [1],\n",
              "       [1],\n",
              "       [1],\n",
              "       [0],\n",
              "       [1],\n",
              "       [1],\n",
              "       [0],\n",
              "       [1],\n",
              "       [0],\n",
              "       [0],\n",
              "       [0],\n",
              "       [1],\n",
              "       [0],\n",
              "       [0],\n",
              "       [0],\n",
              "       [1],\n",
              "       [0],\n",
              "       [0],\n",
              "       [1],\n",
              "       [0],\n",
              "       [0],\n",
              "       [0],\n",
              "       [1],\n",
              "       [0],\n",
              "       [1],\n",
              "       [0],\n",
              "       [1],\n",
              "       [1],\n",
              "       [0],\n",
              "       [0],\n",
              "       [0],\n",
              "       [1],\n",
              "       [1],\n",
              "       [1],\n",
              "       [0],\n",
              "       [1],\n",
              "       [1],\n",
              "       [0],\n",
              "       [0],\n",
              "       [1],\n",
              "       [0],\n",
              "       [0],\n",
              "       [1],\n",
              "       [1],\n",
              "       [1],\n",
              "       [0],\n",
              "       [1],\n",
              "       [0],\n",
              "       [1],\n",
              "       [0],\n",
              "       [1],\n",
              "       [0],\n",
              "       [1],\n",
              "       [0],\n",
              "       [1],\n",
              "       [0],\n",
              "       [0],\n",
              "       [0],\n",
              "       [0],\n",
              "       [1],\n",
              "       [0],\n",
              "       [0],\n",
              "       [1],\n",
              "       [1],\n",
              "       [1],\n",
              "       [1],\n",
              "       [0],\n",
              "       [0],\n",
              "       [1],\n",
              "       [1],\n",
              "       [0],\n",
              "       [0],\n",
              "       [0],\n",
              "       [1],\n",
              "       [1],\n",
              "       [1],\n",
              "       [0],\n",
              "       [0],\n",
              "       [0],\n",
              "       [0],\n",
              "       [1],\n",
              "       [0],\n",
              "       [0],\n",
              "       [0],\n",
              "       [0],\n",
              "       [1],\n",
              "       [0],\n",
              "       [1],\n",
              "       [0],\n",
              "       [1],\n",
              "       [0],\n",
              "       [0],\n",
              "       [1],\n",
              "       [1],\n",
              "       [0],\n",
              "       [1],\n",
              "       [1],\n",
              "       [0],\n",
              "       [1],\n",
              "       [0],\n",
              "       [0],\n",
              "       [1],\n",
              "       [0],\n",
              "       [0],\n",
              "       [1],\n",
              "       [0],\n",
              "       [0],\n",
              "       [0],\n",
              "       [0],\n",
              "       [1],\n",
              "       [1],\n",
              "       [1],\n",
              "       [1],\n",
              "       [0],\n",
              "       [1],\n",
              "       [1],\n",
              "       [1],\n",
              "       [1],\n",
              "       [0],\n",
              "       [1],\n",
              "       [1],\n",
              "       [1],\n",
              "       [1],\n",
              "       [0],\n",
              "       [0],\n",
              "       [0],\n",
              "       [0],\n",
              "       [0],\n",
              "       [1],\n",
              "       [0],\n",
              "       [0],\n",
              "       [1],\n",
              "       [1],\n",
              "       [1],\n",
              "       [1],\n",
              "       [0],\n",
              "       [1],\n",
              "       [0],\n",
              "       [0],\n",
              "       [0],\n",
              "       [0],\n",
              "       [0],\n",
              "       [1],\n",
              "       [1],\n",
              "       [1],\n",
              "       [0],\n",
              "       [0],\n",
              "       [0],\n",
              "       [1],\n",
              "       [1],\n",
              "       [0],\n",
              "       [1],\n",
              "       [0],\n",
              "       [0],\n",
              "       [0],\n",
              "       [1],\n",
              "       [0],\n",
              "       [0],\n",
              "       [1],\n",
              "       [0],\n",
              "       [0],\n",
              "       [0],\n",
              "       [1],\n",
              "       [1],\n",
              "       [0],\n",
              "       [0],\n",
              "       [1],\n",
              "       [0],\n",
              "       [0],\n",
              "       [1],\n",
              "       [1],\n",
              "       [0],\n",
              "       [0],\n",
              "       [0],\n",
              "       [1],\n",
              "       [0],\n",
              "       [1],\n",
              "       [1],\n",
              "       [1],\n",
              "       [0],\n",
              "       [1],\n",
              "       [0],\n",
              "       [1],\n",
              "       [0],\n",
              "       [0],\n",
              "       [1],\n",
              "       [1],\n",
              "       [1],\n",
              "       [0],\n",
              "       [1],\n",
              "       [0],\n",
              "       [0],\n",
              "       [1],\n",
              "       [1],\n",
              "       [1],\n",
              "       [0],\n",
              "       [1],\n",
              "       [1],\n",
              "       [1],\n",
              "       [1],\n",
              "       [1],\n",
              "       [1],\n",
              "       [1],\n",
              "       [1],\n",
              "       [0],\n",
              "       [0],\n",
              "       [0],\n",
              "       [1],\n",
              "       [1],\n",
              "       [0],\n",
              "       [1],\n",
              "       [1],\n",
              "       [1],\n",
              "       [0],\n",
              "       [1],\n",
              "       [1],\n",
              "       [1],\n",
              "       [1],\n",
              "       [1],\n",
              "       [0],\n",
              "       [0],\n",
              "       [1],\n",
              "       [0],\n",
              "       [0],\n",
              "       [1],\n",
              "       [1],\n",
              "       [1],\n",
              "       [0],\n",
              "       [1],\n",
              "       [0],\n",
              "       [0],\n",
              "       [1],\n",
              "       [1],\n",
              "       [0],\n",
              "       [1],\n",
              "       [0],\n",
              "       [0],\n",
              "       [0],\n",
              "       [0],\n",
              "       [0],\n",
              "       [1],\n",
              "       [1]])"
            ]
          },
          "metadata": {},
          "execution_count": 41
        }
      ]
    },
    {
      "cell_type": "code",
      "source": [
        "X_test"
      ],
      "metadata": {
        "id": "qYs5_VRP0x7I",
        "colab": {
          "base_uri": "https://localhost:8080/"
        },
        "outputId": "99db7a36-ff68-4dba-99dc-839d726e3d90"
      },
      "execution_count": null,
      "outputs": [
        {
          "output_type": "execute_result",
          "data": {
            "text/plain": [
              "array([[130.28, 122.37, 121.4 , ..., 123.82, 117.13, 111.89],\n",
              "       [115.26, 112.71, 115.93, ..., 118.27, 111.86, 106.93],\n",
              "       [122.26, 113.25, 112.08, ..., 107.56, 104.89,  99.38],\n",
              "       ...,\n",
              "       [122.85, 113.93, 114.08, ..., 103.32,  99.99,  93.41],\n",
              "       [125.25, 116.65, 116.38, ..., 114.91,  68.07,  75.77],\n",
              "       [129.96, 122.01, 120.53, ..., 123.67, 117.88, 112.76]])"
            ]
          },
          "metadata": {},
          "execution_count": 42
        }
      ]
    },
    {
      "cell_type": "code",
      "source": [
        "y_test"
      ],
      "metadata": {
        "id": "E26W4-iF0zxh",
        "colab": {
          "base_uri": "https://localhost:8080/"
        },
        "outputId": "6857d887-b439-4fee-97ed-1f38dbd8dc91"
      },
      "execution_count": null,
      "outputs": [
        {
          "output_type": "execute_result",
          "data": {
            "text/plain": [
              "array([[0],\n",
              "       [1],\n",
              "       [1],\n",
              "       [1],\n",
              "       [1],\n",
              "       [1],\n",
              "       [0],\n",
              "       [0],\n",
              "       [1],\n",
              "       [0],\n",
              "       [0],\n",
              "       [0],\n",
              "       [0],\n",
              "       [0],\n",
              "       [0],\n",
              "       [1],\n",
              "       [1],\n",
              "       [1],\n",
              "       [1],\n",
              "       [1],\n",
              "       [0],\n",
              "       [1],\n",
              "       [0],\n",
              "       [0],\n",
              "       [0],\n",
              "       [0],\n",
              "       [1],\n",
              "       [0],\n",
              "       [1],\n",
              "       [1],\n",
              "       [0],\n",
              "       [0],\n",
              "       [0],\n",
              "       [1],\n",
              "       [1],\n",
              "       [1],\n",
              "       [1],\n",
              "       [1],\n",
              "       [1],\n",
              "       [0],\n",
              "       [1],\n",
              "       [1],\n",
              "       [1],\n",
              "       [1],\n",
              "       [0],\n",
              "       [0],\n",
              "       [1],\n",
              "       [0],\n",
              "       [0],\n",
              "       [1],\n",
              "       [1],\n",
              "       [1],\n",
              "       [1],\n",
              "       [1],\n",
              "       [1],\n",
              "       [1],\n",
              "       [1],\n",
              "       [0],\n",
              "       [0],\n",
              "       [0],\n",
              "       [0],\n",
              "       [1],\n",
              "       [1],\n",
              "       [0],\n",
              "       [0],\n",
              "       [1],\n",
              "       [0],\n",
              "       [1],\n",
              "       [0],\n",
              "       [0],\n",
              "       [1],\n",
              "       [1],\n",
              "       [1],\n",
              "       [0],\n",
              "       [0],\n",
              "       [0],\n",
              "       [0],\n",
              "       [0],\n",
              "       [0],\n",
              "       [0],\n",
              "       [0],\n",
              "       [0],\n",
              "       [1],\n",
              "       [0],\n",
              "       [1],\n",
              "       [0],\n",
              "       [1],\n",
              "       [1],\n",
              "       [0],\n",
              "       [0],\n",
              "       [0],\n",
              "       [1],\n",
              "       [1],\n",
              "       [1],\n",
              "       [0],\n",
              "       [0],\n",
              "       [1],\n",
              "       [0],\n",
              "       [1],\n",
              "       [0],\n",
              "       [1],\n",
              "       [0],\n",
              "       [1],\n",
              "       [0],\n",
              "       [0],\n",
              "       [1],\n",
              "       [1],\n",
              "       [0],\n",
              "       [0],\n",
              "       [1],\n",
              "       [1],\n",
              "       [0],\n",
              "       [1],\n",
              "       [0],\n",
              "       [0],\n",
              "       [1],\n",
              "       [0],\n",
              "       [0],\n",
              "       [0],\n",
              "       [1],\n",
              "       [1],\n",
              "       [0],\n",
              "       [0],\n",
              "       [1],\n",
              "       [0],\n",
              "       [1],\n",
              "       [1],\n",
              "       [1],\n",
              "       [1],\n",
              "       [0]])"
            ]
          },
          "metadata": {},
          "execution_count": 43
        }
      ]
    },
    {
      "cell_type": "code",
      "source": [
        "model = keras.Sequential()\n",
        "model.add(keras.layers.Dense(64, activation='relu', input_shape=(9,)))\n",
        "\n",
        "model.add(keras.layers.Dense(128, activation='relu'))\n",
        "\n",
        "model.add(keras.layers.Dense(256, activation='relu'))\n",
        "\n",
        "model.add(keras.layers.Dense(128, activation='relu'))\n",
        "\n",
        "model.add(keras.layers.Dense(1, activation = 'sigmoid'))\n",
        "\n",
        "model.compile(optimizer='adam', loss='binary_crossentropy',\n",
        "              metrics=['accuracy'])"
      ],
      "metadata": {
        "id": "gcso11I-02pY"
      },
      "execution_count": null,
      "outputs": []
    },
    {
      "cell_type": "code",
      "source": [
        "model.fit(X_train, y_train, validation_data=(X_test, y_test), epochs=40)"
      ],
      "metadata": {
        "id": "q1n7J0vt1GyB",
        "colab": {
          "base_uri": "https://localhost:8080/"
        },
        "outputId": "6334b54b-a806-4c85-9d5b-15839287c5f3"
      },
      "execution_count": null,
      "outputs": [
        {
          "output_type": "stream",
          "name": "stdout",
          "text": [
            "Train on 414 samples, validate on 130 samples\n",
            "Epoch 1/40\n",
            "414/414 [==============================] - 0s 638us/sample - loss: 5.4252 - acc: 0.4662 - val_loss: 2.1267 - val_acc: 0.5000\n",
            "Epoch 2/40\n",
            "414/414 [==============================] - 0s 178us/sample - loss: 2.1468 - acc: 0.5290 - val_loss: 1.5265 - val_acc: 0.5000\n",
            "Epoch 3/40\n",
            " 32/414 [=>............................] - ETA: 0s - loss: 1.6510 - acc: 0.5312"
          ]
        },
        {
          "output_type": "stream",
          "name": "stderr",
          "text": [
            "/usr/local/lib/python3.7/dist-packages/keras/engine/training_v1.py:2057: UserWarning: `Model.state_updates` will be removed in a future version. This property should not be used in TensorFlow 2.0, as `updates` are applied automatically.\n",
            "  updates = self.state_updates\n"
          ]
        },
        {
          "output_type": "stream",
          "name": "stdout",
          "text": [
            "\b\b\b\b\b\b\b\b\b\b\b\b\b\b\b\b\b\b\b\b\b\b\b\b\b\b\b\b\b\b\b\b\b\b\b\b\b\b\b\b\b\b\b\b\b\b\b\b\b\b\b\b\b\b\b\b\b\b\b\b\b\b\b\b\b\b\b\b\b\b\b\b\b\b\b\b\b\b\b\r414/414 [==============================] - 0s 141us/sample - loss: 0.9701 - acc: 0.5821 - val_loss: 1.0944 - val_acc: 0.5000\n",
            "Epoch 4/40\n",
            "414/414 [==============================] - 0s 280us/sample - loss: 0.6889 - acc: 0.6304 - val_loss: 0.6901 - val_acc: 0.6462\n",
            "Epoch 5/40\n",
            "414/414 [==============================] - 0s 229us/sample - loss: 0.6236 - acc: 0.6184 - val_loss: 0.6439 - val_acc: 0.5615\n",
            "Epoch 6/40\n",
            "414/414 [==============================] - 0s 156us/sample - loss: 0.5579 - acc: 0.6884 - val_loss: 0.5131 - val_acc: 0.7615\n",
            "Epoch 7/40\n",
            "414/414 [==============================] - 0s 261us/sample - loss: 0.4942 - acc: 0.7391 - val_loss: 0.4693 - val_acc: 0.8385\n",
            "Epoch 8/40\n",
            "414/414 [==============================] - 0s 202us/sample - loss: 0.4951 - acc: 0.7319 - val_loss: 0.5011 - val_acc: 0.7923\n",
            "Epoch 9/40\n",
            "414/414 [==============================] - 0s 135us/sample - loss: 0.4973 - acc: 0.7101 - val_loss: 0.4894 - val_acc: 0.7462\n",
            "Epoch 10/40\n",
            "414/414 [==============================] - 0s 133us/sample - loss: 0.4855 - acc: 0.7995 - val_loss: 0.4302 - val_acc: 0.8308\n",
            "Epoch 11/40\n",
            "414/414 [==============================] - 0s 132us/sample - loss: 0.4791 - acc: 0.7585 - val_loss: 0.5829 - val_acc: 0.5000\n",
            "Epoch 12/40\n",
            "414/414 [==============================] - 0s 123us/sample - loss: 0.5735 - acc: 0.6473 - val_loss: 0.5982 - val_acc: 0.5462\n",
            "Epoch 13/40\n",
            "414/414 [==============================] - 0s 130us/sample - loss: 0.4893 - acc: 0.7464 - val_loss: 0.5748 - val_acc: 0.7462\n",
            "Epoch 14/40\n",
            "414/414 [==============================] - 0s 148us/sample - loss: 0.5324 - acc: 0.6763 - val_loss: 0.4955 - val_acc: 0.7462\n",
            "Epoch 15/40\n",
            "414/414 [==============================] - 0s 138us/sample - loss: 0.4411 - acc: 0.8188 - val_loss: 0.4391 - val_acc: 0.7923\n",
            "Epoch 16/40\n",
            "414/414 [==============================] - 0s 135us/sample - loss: 0.4091 - acc: 0.8140 - val_loss: 0.5204 - val_acc: 0.7462\n",
            "Epoch 17/40\n",
            "414/414 [==============================] - 0s 146us/sample - loss: 0.4540 - acc: 0.7802 - val_loss: 0.3710 - val_acc: 0.8385\n",
            "Epoch 18/40\n",
            "414/414 [==============================] - 0s 135us/sample - loss: 0.4322 - acc: 0.8116 - val_loss: 0.4846 - val_acc: 0.5462\n",
            "Epoch 19/40\n",
            "414/414 [==============================] - 0s 137us/sample - loss: 0.5177 - acc: 0.7174 - val_loss: 0.6115 - val_acc: 0.7462\n",
            "Epoch 20/40\n",
            "414/414 [==============================] - 0s 132us/sample - loss: 0.4546 - acc: 0.7826 - val_loss: 0.4624 - val_acc: 0.5154\n",
            "Epoch 21/40\n",
            "414/414 [==============================] - 0s 144us/sample - loss: 0.4199 - acc: 0.8309 - val_loss: 0.3885 - val_acc: 0.8385\n",
            "Epoch 22/40\n",
            "414/414 [==============================] - 0s 142us/sample - loss: 0.3975 - acc: 0.8430 - val_loss: 0.3970 - val_acc: 0.8923\n",
            "Epoch 23/40\n",
            "414/414 [==============================] - 0s 149us/sample - loss: 0.4158 - acc: 0.8261 - val_loss: 0.3642 - val_acc: 0.8385\n",
            "Epoch 24/40\n",
            "414/414 [==============================] - 0s 161us/sample - loss: 0.3981 - acc: 0.8164 - val_loss: 0.3667 - val_acc: 0.8385\n",
            "Epoch 25/40\n",
            "414/414 [==============================] - 0s 165us/sample - loss: 0.4062 - acc: 0.8502 - val_loss: 0.3614 - val_acc: 0.8385\n",
            "Epoch 26/40\n",
            "414/414 [==============================] - 0s 117us/sample - loss: 0.4575 - acc: 0.7971 - val_loss: 0.4089 - val_acc: 0.8154\n",
            "Epoch 27/40\n",
            "414/414 [==============================] - 0s 122us/sample - loss: 0.3947 - acc: 0.8188 - val_loss: 0.3502 - val_acc: 0.9000\n",
            "Epoch 28/40\n",
            "414/414 [==============================] - 0s 124us/sample - loss: 0.3686 - acc: 0.8768 - val_loss: 0.4269 - val_acc: 0.8154\n",
            "Epoch 29/40\n",
            "414/414 [==============================] - 0s 203us/sample - loss: 0.3795 - acc: 0.8502 - val_loss: 0.3738 - val_acc: 0.9154\n",
            "Epoch 30/40\n",
            "414/414 [==============================] - 0s 150us/sample - loss: 0.3901 - acc: 0.8527 - val_loss: 0.3533 - val_acc: 0.9077\n",
            "Epoch 31/40\n",
            "414/414 [==============================] - 0s 177us/sample - loss: 0.3886 - acc: 0.8478 - val_loss: 0.3521 - val_acc: 0.8846\n",
            "Epoch 32/40\n",
            "414/414 [==============================] - 0s 166us/sample - loss: 0.3504 - acc: 0.8792 - val_loss: 0.3168 - val_acc: 0.9000\n",
            "Epoch 33/40\n",
            "414/414 [==============================] - 0s 148us/sample - loss: 0.3992 - acc: 0.8285 - val_loss: 0.4417 - val_acc: 0.8154\n",
            "Epoch 34/40\n",
            "414/414 [==============================] - 0s 141us/sample - loss: 0.3636 - acc: 0.8768 - val_loss: 0.3894 - val_acc: 0.7846\n",
            "Epoch 35/40\n",
            "414/414 [==============================] - 0s 179us/sample - loss: 0.3507 - acc: 0.8164 - val_loss: 0.4029 - val_acc: 0.8154\n",
            "Epoch 36/40\n",
            "414/414 [==============================] - 0s 139us/sample - loss: 0.3421 - acc: 0.8696 - val_loss: 0.3182 - val_acc: 0.8846\n",
            "Epoch 37/40\n",
            "414/414 [==============================] - 0s 191us/sample - loss: 0.3480 - acc: 0.8116 - val_loss: 0.7124 - val_acc: 0.7615\n",
            "Epoch 38/40\n",
            "414/414 [==============================] - 0s 206us/sample - loss: 0.4364 - acc: 0.7899 - val_loss: 0.3221 - val_acc: 0.9231\n",
            "Epoch 39/40\n",
            "414/414 [==============================] - 0s 160us/sample - loss: 0.4205 - acc: 0.7899 - val_loss: 0.4800 - val_acc: 0.8000\n",
            "Epoch 40/40\n",
            "414/414 [==============================] - 0s 215us/sample - loss: 0.4281 - acc: 0.7754 - val_loss: 0.4393 - val_acc: 0.7692\n"
          ]
        },
        {
          "output_type": "execute_result",
          "data": {
            "text/plain": [
              "<keras.callbacks.History at 0x7f7afa0eced0>"
            ]
          },
          "metadata": {},
          "execution_count": 45
        }
      ]
    },
    {
      "cell_type": "code",
      "source": [
        "print(model.evaluate(x=X_train, y=y_train))\n",
        "model.metrics_names"
      ],
      "metadata": {
        "id": "Cobr5jMc1qU4",
        "colab": {
          "base_uri": "https://localhost:8080/"
        },
        "outputId": "fd74eae2-5b32-4a3e-c0f7-78c90491189a"
      },
      "execution_count": null,
      "outputs": [
        {
          "output_type": "stream",
          "name": "stdout",
          "text": [
            "[0.4482819272412194, 0.78985506]\n"
          ]
        },
        {
          "output_type": "execute_result",
          "data": {
            "text/plain": [
              "['loss', 'acc']"
            ]
          },
          "metadata": {},
          "execution_count": 46
        }
      ]
    },
    {
      "cell_type": "code",
      "source": [
        "print(model.evaluate(x=X_test, y=y_test))\n",
        "model.metrics_names"
      ],
      "metadata": {
        "id": "3awBiXo31sbg",
        "colab": {
          "base_uri": "https://localhost:8080/"
        },
        "outputId": "9ebf4397-5047-4279-c801-1812c72523e0"
      },
      "execution_count": null,
      "outputs": [
        {
          "output_type": "stream",
          "name": "stdout",
          "text": [
            "[0.4392701673966188, 0.7692308]\n"
          ]
        },
        {
          "output_type": "execute_result",
          "data": {
            "text/plain": [
              "['loss', 'acc']"
            ]
          },
          "metadata": {},
          "execution_count": 47
        }
      ]
    },
    {
      "cell_type": "code",
      "source": [
        "Y_pred = model.predict(X_test)\n",
        "Y_pred = [ 1 if y>=0.5 else 0 for y in Y_pred ]\n",
        "print(Y_pred)"
      ],
      "metadata": {
        "id": "ubeawRIc1ujo",
        "colab": {
          "base_uri": "https://localhost:8080/"
        },
        "outputId": "465ae7ff-fa64-4899-d7b2-e3a8af413b1e"
      },
      "execution_count": null,
      "outputs": [
        {
          "output_type": "stream",
          "name": "stdout",
          "text": [
            "[0, 0, 0, 0, 1, 1, 0, 0, 0, 0, 0, 0, 0, 0, 0, 1, 1, 0, 0, 1, 0, 0, 0, 0, 0, 0, 0, 0, 0, 1, 0, 0, 0, 0, 0, 0, 0, 1, 0, 0, 1, 1, 0, 1, 0, 0, 1, 0, 0, 1, 0, 1, 0, 0, 1, 1, 1, 0, 0, 0, 0, 0, 1, 0, 0, 0, 0, 0, 0, 0, 1, 1, 1, 0, 0, 0, 0, 0, 0, 0, 0, 0, 0, 0, 0, 0, 1, 1, 0, 0, 0, 0, 1, 0, 0, 0, 1, 0, 1, 0, 1, 0, 0, 0, 0, 1, 0, 0, 0, 1, 0, 0, 0, 0, 0, 1, 0, 0, 0, 1, 1, 0, 0, 0, 0, 1, 1, 1, 1, 0]\n"
          ]
        },
        {
          "output_type": "stream",
          "name": "stderr",
          "text": [
            "/usr/local/lib/python3.7/dist-packages/keras/engine/training_v1.py:2079: UserWarning: `Model.state_updates` will be removed in a future version. This property should not be used in TensorFlow 2.0, as `updates` are applied automatically.\n",
            "  updates=self.state_updates,\n"
          ]
        }
      ]
    },
    {
      "cell_type": "code",
      "source": [
        "combinedDF = pd.concat([pd.DataFrame(X_train), pd.DataFrame(y_train)], axis=1)\n",
        "combinedDF\n",
        "#combinedDF = combinedDF.rename(columns={'0': '9'})\n",
        "combinedDF = combinedDF.set_axis(['0', '1', '2','3','4','5','6','7','8','9'], axis='columns')\n",
        "print(combinedDF)"
      ],
      "metadata": {
        "id": "onLJQR1C1w2K",
        "colab": {
          "base_uri": "https://localhost:8080/"
        },
        "outputId": "7dc1ea3f-2a4a-489c-b5d7-b06d545746a7"
      },
      "execution_count": null,
      "outputs": [
        {
          "output_type": "stream",
          "name": "stdout",
          "text": [
            "          0       1       2       3       4       5       6       7       8  9\n",
            "0    129.96  122.01  120.53  121.80  120.21  121.71  123.67  117.88  112.76  0\n",
            "1    127.54  119.26  117.02  118.67  117.66  118.76  120.74  115.86  110.79  0\n",
            "2    124.78  116.12  115.83  114.90  109.19  111.47  113.63   88.34   36.12  1\n",
            "3    128.59  120.45  118.35  119.99  118.94  120.07  122.05  117.15  112.09  0\n",
            "4    122.12  113.09  112.70  106.07  104.25  102.70   91.03  101.20   95.01  1\n",
            "..      ...     ...     ...     ...     ...     ...     ...     ...     ... ..\n",
            "409  129.96  122.01  120.53  121.80  120.21  121.71  123.67  117.88  112.76  0\n",
            "410  123.80  115.01  114.84  113.58  107.14  109.52  111.69   82.28   17.35  0\n",
            "411  130.28  122.37  121.40  122.23  120.13  121.88  123.82  117.13  111.89  0\n",
            "412  120.03  110.72  109.48   83.28  104.79  105.28  102.73  101.50   95.90  1\n",
            "413  122.77  113.83  113.77  105.90  104.02  101.99   87.80  100.85   94.46  1\n",
            "\n",
            "[414 rows x 10 columns]\n"
          ]
        }
      ]
    },
    {
      "cell_type": "code",
      "source": [
        "# from sklearn.preprocessing import StandardScaler\n",
        "# df = StandardScaler().fit_transform(df)"
      ],
      "metadata": {
        "id": "tY2fvR7QShxC"
      },
      "execution_count": null,
      "outputs": []
    },
    {
      "cell_type": "code",
      "source": [
        "total = 0\n",
        "correct = 0\n",
        "wrong = 0\n",
        "wrong_prediction_df = pd.DataFrame(columns = ['Junc 10', 'Junc 11', 'Junc 12', 'Junc 13', 'Junc 21', 'Junc 22', 'Junc 23', 'Junc 31', 'Junc 32', 'Condition'], dtype=object) \n",
        "for i in range(len(Y_pred)):\n",
        "  total=total+1\n",
        "  if(y_test[i] == Y_pred[i]):\n",
        "    correct=correct+1\n",
        "  else:\n",
        "    wrong=wrong+1\n",
        "    currentPressureArray = X_test[i].tolist()\n",
        "    currentPressureArray.append(y_test[i])\n",
        "    df = df[~df.index.duplicated()]\n",
        "    wrong_prediction_df = wrong_prediction_df.append(pd.Series(currentPressureArray, index = combinedDF.columns), ignore_index=True)\n",
        "\n",
        "\n",
        "print(\"Total \" + str(total))\n",
        "print(\"Correct \" + str(correct))\n",
        "print(\"Wrong \" + str(wrong))\n",
        "print(wrong_prediction_df)"
      ],
      "metadata": {
        "id": "daIvx6ou2Agy",
        "colab": {
          "base_uri": "https://localhost:8080/"
        },
        "outputId": "f3149e0a-595c-4532-db2b-7f73ba75edbe"
      },
      "execution_count": null,
      "outputs": [
        {
          "output_type": "stream",
          "name": "stdout",
          "text": [
            "Total 130\n",
            "Correct 100\n",
            "Wrong 30\n",
            "   Junc 10 Junc 11 Junc 12 Junc 13 Junc 21  ...       5       6       7       8    9\n",
            "0      NaN     NaN     NaN     NaN     NaN  ...  116.21  118.27  111.86  106.93  [1]\n",
            "1      NaN     NaN     NaN     NaN     NaN  ...  108.91  107.56  104.89   99.38  [1]\n",
            "2      NaN     NaN     NaN     NaN     NaN  ...  117.86  119.95  114.14  109.38  [1]\n",
            "3      NaN     NaN     NaN     NaN     NaN  ...  111.83  113.75  107.22  101.93  [1]\n",
            "4      NaN     NaN     NaN     NaN     NaN  ...  113.89  116.07   89.53   23.45  [1]\n",
            "5      NaN     NaN     NaN     NaN     NaN  ...  110.20  108.83  106.17  100.66  [1]\n",
            "6      NaN     NaN     NaN     NaN     NaN  ...  110.63  112.67  105.48  100.38  [1]\n",
            "7      NaN     NaN     NaN     NaN     NaN  ...  111.33  113.38  106.17  101.07  [1]\n",
            "8      NaN     NaN     NaN     NaN     NaN  ...  117.34  119.45  113.48  108.77  [1]\n",
            "9      NaN     NaN     NaN     NaN     NaN  ...  111.78  113.96  102.76   98.54  [1]\n",
            "10     NaN     NaN     NaN     NaN     NaN  ...  116.00  118.07  111.62  106.70  [1]\n",
            "11     NaN     NaN     NaN     NaN     NaN  ...  117.70  119.79  113.95  109.20  [1]\n",
            "12     NaN     NaN     NaN     NaN     NaN  ...  113.32  115.51  105.15  101.08  [1]\n",
            "13     NaN     NaN     NaN     NaN     NaN  ...  109.42  111.47  104.24   99.14  [1]\n",
            "14     NaN     NaN     NaN     NaN     NaN  ...  116.64  118.62  113.79  108.70  [1]\n",
            "15     NaN     NaN     NaN     NaN     NaN  ...  117.80  119.78  114.92  109.84  [1]\n",
            "16     NaN     NaN     NaN     NaN     NaN  ...  112.37  114.47  107.81  102.95  [1]\n",
            "17     NaN     NaN     NaN     NaN     NaN  ...  113.70  115.89  105.50  101.44  [1]\n",
            "18     NaN     NaN     NaN     NaN     NaN  ...   48.22   50.20   43.25   38.09  [1]\n",
            "19     NaN     NaN     NaN     NaN     NaN  ...  113.75  115.93   89.42   23.42  [1]\n",
            "20     NaN     NaN     NaN     NaN     NaN  ...  115.18  117.13  111.47  106.31  [1]\n",
            "21     NaN     NaN     NaN     NaN     NaN  ...  115.26  114.30  112.89  107.58  [1]\n",
            "22     NaN     NaN     NaN     NaN     NaN  ...  114.04  116.11  109.64  104.73  [1]\n",
            "23     NaN     NaN     NaN     NaN     NaN  ...  116.25  118.22  113.40  108.31  [1]\n",
            "24     NaN     NaN     NaN     NaN     NaN  ...  110.79  112.83  105.63  100.53  [1]\n",
            "25     NaN     NaN     NaN     NaN     NaN  ...  117.40  119.51  113.57  108.85  [1]\n",
            "26     NaN     NaN     NaN     NaN     NaN  ...  118.72  120.70  115.83  110.75  [1]\n",
            "27     NaN     NaN     NaN     NaN     NaN  ...   42.38   44.36   37.41   32.25  [1]\n",
            "28     NaN     NaN     NaN     NaN     NaN  ...  112.42  111.26  109.27  103.89  [1]\n",
            "29     NaN     NaN     NaN     NaN     NaN  ...  114.85  116.87  109.75  104.63  [1]\n",
            "\n",
            "[30 rows x 20 columns]\n"
          ]
        }
      ]
    },
    {
      "cell_type": "markdown",
      "source": [
        "DATA VISUALISATION\n",
        "\n",
        "THE TRAIN SET PRESSURE DATA HAS BEEN PLOTTED FOR LEAK AND NON-LEAK CASE"
      ],
      "metadata": {
        "id": "ZcSz7Rl12GA4"
      }
    },
    {
      "cell_type": "code",
      "source": [
        "import matplotlib.pyplot as plt\n",
        "for col in combinedDF:  \n",
        "    if col != '9':\n",
        "        plt.scatter('9', col , data=combinedDF)\n",
        "        plt.ylabel(col +  'pressure')\n",
        "        plt.xlabel('0=no leak, 1=leak')\n",
        "        plt.axis([-0.1, 1.1, 0, 140])\n",
        "        plt.show()"
      ],
      "metadata": {
        "id": "3ifZJ66I2HLA",
        "colab": {
          "base_uri": "https://localhost:8080/",
          "height": 1000
        },
        "outputId": "ac68428d-b1bf-4dd8-c88d-d831e432b9c9"
      },
      "execution_count": null,
      "outputs": [
        {
          "output_type": "display_data",
          "data": {
            "image/png": "[encoded data removed]",
            "text/plain": [
              "<Figure size 432x288 with 1 Axes>"
            ]
          },
          "metadata": {
            "needs_background": "light"
          }
        },
        {
          "output_type": "display_data",
          "data": {
            "image/png": "[encoded data removed]",
            "text/plain": [
              "<Figure size 432x288 with 1 Axes>"
            ]
          },
          "metadata": {
            "needs_background": "light"
          }
        },
        {
          "output_type": "display_data",
          "data": {
            "image/png": "[encoded data removed]",
            "text/plain": [
              "<Figure size 432x288 with 1 Axes>"
            ]
          },
          "metadata": {
            "needs_background": "light"
          }
        },
        {
          "output_type": "display_data",
          "data": {
            "image/png": "[encoded data removed]",
            "text/plain": [
              "<Figure size 432x288 with 1 Axes>"
            ]
          },
          "metadata": {
            "needs_background": "light"
          }
        },
        {
          "output_type": "display_data",
          "data": {
            "image/png": "[encoded data removed]",
            "text/plain": [
              "<Figure size 432x288 with 1 Axes>"
            ]
          },
          "metadata": {
            "needs_background": "light"
          }
        },
        {
          "output_type": "display_data",
          "data": {
            "image/png": "[encoded data removed]",
            "text/plain": [
              "<Figure size 432x288 with 1 Axes>"
            ]
          },
          "metadata": {
            "needs_background": "light"
          }
        },
        {
          "output_type": "display_data",
          "data": {
            "image/png": "[encoded data removed]",
            "text/plain": [
              "<Figure size 432x288 with 1 Axes>"
            ]
          },
          "metadata": {
            "needs_background": "light"
          }
        },
        {
          "output_type": "display_data",
          "data": {
            "image/png": "[encoded data removed]",
            "text/plain": [
              "<Figure size 432x288 with 1 Axes>"
            ]
          },
          "metadata": {
            "needs_background": "light"
          }
        },
        {
          "output_type": "display_data",
          "data": {
            "image/png": "[encoded data removed]",
            "text/plain": [
              "<Figure size 432x288 with 1 Axes>"
            ]
          },
          "metadata": {
            "needs_background": "light"
          }
        }
      ]
    },
    {
      "cell_type": "markdown",
      "source": [
        "DATA VISUALISATION:\n",
        "\n",
        "THE FOLLOWING GRAPHS SHOW THE PRESSURES WHICH WERE WRONGLY PREDICTED"
      ],
      "metadata": {
        "id": "vvDBaZ4p2O-w"
      }
    },
    {
      "cell_type": "code",
      "source": [
        "for col in wrong_prediction_df:  \n",
        "    if col != '9':\n",
        "        plt.scatter('9', col , data=wrong_prediction_df)\n",
        "        plt.ylabel(col +  'pressure')\n",
        "        plt.xlabel('0=no leak, 1=leak')\n",
        "        plt.axis([-0.1, 1.1, 0, 140])\n",
        "        plt.show()"
      ],
      "metadata": {
        "id": "iECSy4Es2OVX",
        "colab": {
          "base_uri": "https://localhost:8080/",
          "height": 1000
        },
        "outputId": "a09ad398-5406-459d-812a-e63ecc24107f"
      },
      "execution_count": null,
      "outputs": [
        {
          "output_type": "display_data",
          "data": {
            "image/png": "[encoded data removed]",
            "text/plain": [
              "<Figure size 432x288 with 1 Axes>"
            ]
          },
          "metadata": {
            "needs_background": "light"
          }
        },
        {
          "output_type": "display_data",
          "data": {
            "image/png": "[encoded data removed]",
            "text/plain": [
              "<Figure size 432x288 with 1 Axes>"
            ]
          },
          "metadata": {
            "needs_background": "light"
          }
        },
        {
          "output_type": "display_data",
          "data": {
            "image/png": "[encoded data removed]",
            "text/plain": [
              "<Figure size 432x288 with 1 Axes>"
            ]
          },
          "metadata": {
            "needs_background": "light"
          }
        },
        {
          "output_type": "display_data",
          "data": {
            "image/png": "[encoded data removed]",
            "text/plain": [
              "<Figure size 432x288 with 1 Axes>"
            ]
          },
          "metadata": {
            "needs_background": "light"
          }
        },
        {
          "output_type": "display_data",
          "data": {
            "image/png": "[encoded data removed]",
            "text/plain": [
              "<Figure size 432x288 with 1 Axes>"
            ]
          },
          "metadata": {
            "needs_background": "light"
          }
        },
        {
          "output_type": "display_data",
          "data": {
            "image/png": "[encoded data removed]",
            "text/plain": [
              "<Figure size 432x288 with 1 Axes>"
            ]
          },
          "metadata": {
            "needs_background": "light"
          }
        },
        {
          "output_type": "display_data",
          "data": {
            "image/png": "[encoded data removed]",
            "text/plain": [
              "<Figure size 432x288 with 1 Axes>"
            ]
          },
          "metadata": {
            "needs_background": "light"
          }
        },
        {
          "output_type": "display_data",
          "data": {
            "image/png": "[encoded data removed]",
            "text/plain": [
              "<Figure size 432x288 with 1 Axes>"
            ]
          },
          "metadata": {
            "needs_background": "light"
          }
        },
        {
          "output_type": "display_data",
          "data": {
            "image/png": "[encoded data removed]",
            "text/plain": [
              "<Figure size 432x288 with 1 Axes>"
            ]
          },
          "metadata": {
            "needs_background": "light"
          }
        },
        {
          "output_type": "display_data",
          "data": {
            "image/png": "[encoded data removed]",
            "text/plain": [
              "<Figure size 432x288 with 1 Axes>"
            ]
          },
          "metadata": {
            "needs_background": "light"
          }
        },
        {
          "output_type": "display_data",
          "data": {
            "image/png": "[encoded data removed]",
            "text/plain": [
              "<Figure size 432x288 with 1 Axes>"
            ]
          },
          "metadata": {
            "needs_background": "light"
          }
        },
        {
          "output_type": "display_data",
          "data": {
            "image/png": "[encoded data removed]",
            "text/plain": [
              "<Figure size 432x288 with 1 Axes>"
            ]
          },
          "metadata": {
            "needs_background": "light"
          }
        },
        {
          "output_type": "display_data",
          "data": {
            "image/png": "[encoded data removed]",
            "text/plain": [
              "<Figure size 432x288 with 1 Axes>"
            ]
          },
          "metadata": {
            "needs_background": "light"
          }
        },
        {
          "output_type": "display_data",
          "data": {
            "image/png": "[encoded data removed]",
            "text/plain": [
              "<Figure size 432x288 with 1 Axes>"
            ]
          },
          "metadata": {
            "needs_background": "light"
          }
        },
        {
          "output_type": "display_data",
          "data": {
            "image/png": "[encoded data removed]",
            "text/plain": [
              "<Figure size 432x288 with 1 Axes>"
            ]
          },
          "metadata": {
            "needs_background": "light"
          }
        },
        {
          "output_type": "display_data",
          "data": {
            "image/png": "[encoded data removed]",
            "text/plain": [
              "<Figure size 432x288 with 1 Axes>"
            ]
          },
          "metadata": {
            "needs_background": "light"
          }
        },
        {
          "output_type": "display_data",
          "data": {
            "image/png": "[encoded data removed]",
            "text/plain": [
              "<Figure size 432x288 with 1 Axes>"
            ]
          },
          "metadata": {
            "needs_background": "light"
          }
        },
        {
          "output_type": "display_data",
          "data": {
            "image/png": "[encoded data removed]",
            "text/plain": [
              "<Figure size 432x288 with 1 Axes>"
            ]
          },
          "metadata": {
            "needs_background": "light"
          }
        },
        {
          "output_type": "display_data",
          "data": {
            "image/png": "[encoded data removed]",
            "text/plain": [
              "<Figure size 432x288 with 1 Axes>"
            ]
          },
          "metadata": {
            "needs_background": "light"
          }
        }
      ]
    }
  ]
}