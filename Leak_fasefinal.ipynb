{
  "nbformat": 4,
  "nbformat_minor": 0,
  "metadata": {
    "colab": {
      "name": "Leak-fasefinal.ipynb",
      "provenance": [],
      "collapsed_sections": [],
      "authorship_tag": "ABX9TyOtBnry+SaXf+DoDqItJG85",
      "include_colab_link": true
    },
    "kernelspec": {
      "name": "python3",
      "display_name": "Python 3"
    },
    "language_info": {
      "name": "python"
    }
  },
  "cells": [
    {
      "cell_type": "markdown",
      "metadata": {
        "id": "view-in-github",
        "colab_type": "text"
      },
      "source": [
        "<a href=\"https://colab.research.google.com/github/pafernannapi18/GithubIntro/blob/main/Leak_fasefinal.ipynb\" target=\"_parent\"><img src=\"https://colab.research.google.com/assets/colab-badge.svg\" alt=\"Open In Colab\"/></a>"
      ]
    },
    {
      "cell_type": "code",
      "source": [
        "import numpy as np\n",
        "import pandas as pd\n",
        "from sklearn.model_selection import train_test_split\n",
        "import tensorflow.compat.v1 as tf\n",
        "tf.disable_v2_behavior()\n",
        "\n",
        "#Getting the Iris dataset and preparing the variables and target\n",
        "#data = '/content/drive/MyDrive/Train dataset/train.csv'\n",
        "data =\"/content/drive/MyDrive/leak_Big_data.csv\"\n",
        "df = pd.read_csv(data)\n",
        "df = df[(df[\"Condition\"] == 0)|(df[\"Condition\"] == 1)]\n",
        "y = df[\"Condition\"]\n",
        "X = df.loc[:, [\"Junc 11\", \"Junc 4\", \"Junc 1\", \"Junc 131\", \"Junc 150\", \"Junc 81\", \"Junc 137\", \"Junc 27\", \"Junc 30\", \"Junc 15\", \"Junc 45\", \"Junc 60\", \"Junc 25\",]]\n",
        "y = np.array(y)\n",
        "X = np.array(X)\n",
        "\n",
        "\n",
        "y = y.astype(np.int)[:, np.newaxis]\n",
        "\n",
        "# Split into train and test\n",
        "X_train, X_test, y_train, y_test = train_test_split(X, y, test_size=0.2, random_state=0)\n",
        "\n",
        "# Further split into train and val\n",
        "X_train, X_val, y_train, y_val = train_test_split(X_train, y_train, test_size=0.2, random_state=0)"
      ],
      "metadata": {
        "id": "yQShp61SDDtY",
        "colab": {
          "base_uri": "https://localhost:8080/"
        },
        "outputId": "ebb8f195-bbd3-4617-90bb-b87bad4627be"
      },
      "execution_count": null,
      "outputs": [
        {
          "output_type": "stream",
          "name": "stderr",
          "text": [
            "/usr/local/lib/python3.7/dist-packages/ipykernel_launcher.py:18: DeprecationWarning: `np.int` is a deprecated alias for the builtin `int`. To silence this warning, use `int` by itself. Doing this will not modify any behavior and is safe. When replacing `np.int`, you may wish to use e.g. `np.int64` or `np.int32` to specify the precision. If you wish to review your current use, check the release note link for additional information.\n",
            "Deprecated in NumPy 1.20; for more details and guidance: https://numpy.org/devdocs/release/1.20.0-notes.html#deprecations\n"
          ]
        }
      ]
    },
    {
      "cell_type": "code",
      "execution_count": null,
      "metadata": {
        "id": "-4gP39TlxglY",
        "colab": {
          "base_uri": "https://localhost:8080/"
        },
        "outputId": "45510785-cfc2-4c8f-bb05-d46c1c9fd95b"
      },
      "outputs": [
        {
          "output_type": "stream",
          "name": "stdout",
          "text": [
            "Mounted at /content/gdrive\n"
          ]
        }
      ],
      "source": [
        "from google.colab import drive\n",
        "drive.mount('/content/gdrive')"
      ]
    },
    {
      "cell_type": "code",
      "source": [
        "import keras\n",
        "import numpy as np\n",
        "import pandas as pd"
      ],
      "metadata": {
        "id": "5Rr_3ZX_0Z1R"
      },
      "execution_count": null,
      "outputs": []
    },
    {
      "cell_type": "code",
      "source": [
        "!pip install --upgrade pandas"
      ],
      "metadata": {
        "id": "b6hYfX-TjZdU",
        "colab": {
          "base_uri": "https://localhost:8080/"
        },
        "outputId": "e57364bd-9ce6-4238-ab88-9ae42b5f8db2"
      },
      "execution_count": null,
      "outputs": [
        {
          "output_type": "stream",
          "name": "stdout",
          "text": [
            "Requirement already satisfied: pandas in /usr/local/lib/python3.7/dist-packages (1.3.5)\n",
            "Requirement already satisfied: python-dateutil>=2.7.3 in /usr/local/lib/python3.7/dist-packages (from pandas) (2.8.2)\n",
            "Requirement already satisfied: pytz>=2017.3 in /usr/local/lib/python3.7/dist-packages (from pandas) (2018.9)\n",
            "Requirement already satisfied: numpy>=1.17.3 in /usr/local/lib/python3.7/dist-packages (from pandas) (1.21.5)\n",
            "Requirement already satisfied: six>=1.5 in /usr/local/lib/python3.7/dist-packages (from python-dateutil>=2.7.3->pandas) (1.15.0)\n"
          ]
        }
      ]
    },
    {
      "cell_type": "code",
      "source": [
        "import pandas as pd\n",
        "pd.__version__"
      ],
      "metadata": {
        "id": "f8i4lY7HjTmL",
        "colab": {
          "base_uri": "https://localhost:8080/",
          "height": 35
        },
        "outputId": "214136cd-d704-4525-ecc1-f5cdf4fdc08e"
      },
      "execution_count": null,
      "outputs": [
        {
          "output_type": "execute_result",
          "data": {
            "application/vnd.google.colaboratory.intrinsic+json": {
              "type": "string"
            },
            "text/plain": [
              "'1.3.5'"
            ]
          },
          "metadata": {},
          "execution_count": 13
        }
      ]
    },
    {
      "cell_type": "code",
      "source": [
        "X_train"
      ],
      "metadata": {
        "id": "zJaylJcu0tVI",
        "colab": {
          "base_uri": "https://localhost:8080/"
        },
        "outputId": "92d51262-ba9f-49cc-cc9d-76c2cd56db0c"
      },
      "execution_count": null,
      "outputs": [
        {
          "output_type": "execute_result",
          "data": {
            "text/plain": [
              "array([[123.8 , 115.01, 114.84, ..., 113.58, 109.52, 114.84],\n",
              "       [126.21, 117.74, 117.06, ..., 116.85, 114.2 , 117.06],\n",
              "       [130.28, 122.37, 121.4 , ..., 122.23, 121.88, 121.4 ],\n",
              "       ...,\n",
              "       [ 68.44,  52.29,  45.32, ...,  40.9 ,  39.17,  45.32],\n",
              "       [130.28, 122.37, 121.4 , ..., 122.23, 121.88, 121.4 ],\n",
              "       [127.54, 119.26, 117.02, ..., 118.67, 118.76, 117.02]])"
            ]
          },
          "metadata": {},
          "execution_count": 14
        }
      ]
    },
    {
      "cell_type": "code",
      "source": [
        "y_train"
      ],
      "metadata": {
        "id": "ncEe4gM00vqY",
        "colab": {
          "base_uri": "https://localhost:8080/"
        },
        "outputId": "a9c60a9e-85f3-41fa-ac25-9006db2a7e75"
      },
      "execution_count": null,
      "outputs": [
        {
          "output_type": "execute_result",
          "data": {
            "text/plain": [
              "array([[0],\n",
              "       [1],\n",
              "       [0],\n",
              "       [0],\n",
              "       [1],\n",
              "       [0],\n",
              "       [0],\n",
              "       [1],\n",
              "       [1],\n",
              "       [1],\n",
              "       [1],\n",
              "       [1],\n",
              "       [1],\n",
              "       [1],\n",
              "       [1],\n",
              "       [1],\n",
              "       [0],\n",
              "       [0],\n",
              "       [0],\n",
              "       [0],\n",
              "       [0],\n",
              "       [1],\n",
              "       [0],\n",
              "       [0],\n",
              "       [1],\n",
              "       [1],\n",
              "       [0],\n",
              "       [1],\n",
              "       [1],\n",
              "       [0],\n",
              "       [0],\n",
              "       [1],\n",
              "       [1],\n",
              "       [1],\n",
              "       [0],\n",
              "       [1],\n",
              "       [0],\n",
              "       [0],\n",
              "       [0],\n",
              "       [0],\n",
              "       [1],\n",
              "       [0],\n",
              "       [1],\n",
              "       [1],\n",
              "       [1],\n",
              "       [1],\n",
              "       [1],\n",
              "       [0],\n",
              "       [1],\n",
              "       [0],\n",
              "       [1],\n",
              "       [0],\n",
              "       [1],\n",
              "       [1],\n",
              "       [0],\n",
              "       [1],\n",
              "       [0],\n",
              "       [1],\n",
              "       [0],\n",
              "       [1],\n",
              "       [0],\n",
              "       [0],\n",
              "       [0],\n",
              "       [1],\n",
              "       [0],\n",
              "       [0],\n",
              "       [0],\n",
              "       [1],\n",
              "       [1],\n",
              "       [0],\n",
              "       [1],\n",
              "       [0],\n",
              "       [0],\n",
              "       [1],\n",
              "       [1],\n",
              "       [1],\n",
              "       [1],\n",
              "       [0],\n",
              "       [0],\n",
              "       [0],\n",
              "       [0],\n",
              "       [0],\n",
              "       [1],\n",
              "       [1],\n",
              "       [1],\n",
              "       [0],\n",
              "       [0],\n",
              "       [1],\n",
              "       [1],\n",
              "       [1],\n",
              "       [0],\n",
              "       [1],\n",
              "       [0],\n",
              "       [0],\n",
              "       [1],\n",
              "       [1],\n",
              "       [0],\n",
              "       [1],\n",
              "       [1],\n",
              "       [1],\n",
              "       [0],\n",
              "       [1],\n",
              "       [1],\n",
              "       [0],\n",
              "       [0],\n",
              "       [1],\n",
              "       [1],\n",
              "       [0],\n",
              "       [1],\n",
              "       [0],\n",
              "       [1],\n",
              "       [0],\n",
              "       [0],\n",
              "       [1],\n",
              "       [1],\n",
              "       [1],\n",
              "       [0],\n",
              "       [1],\n",
              "       [1],\n",
              "       [1],\n",
              "       [1],\n",
              "       [0],\n",
              "       [1],\n",
              "       [1],\n",
              "       [1],\n",
              "       [0],\n",
              "       [0],\n",
              "       [0],\n",
              "       [1],\n",
              "       [0],\n",
              "       [0],\n",
              "       [0],\n",
              "       [0],\n",
              "       [1],\n",
              "       [0],\n",
              "       [0],\n",
              "       [1],\n",
              "       [0],\n",
              "       [1],\n",
              "       [0],\n",
              "       [0],\n",
              "       [0],\n",
              "       [0],\n",
              "       [1],\n",
              "       [1],\n",
              "       [0],\n",
              "       [0],\n",
              "       [1],\n",
              "       [0],\n",
              "       [0],\n",
              "       [1],\n",
              "       [1],\n",
              "       [1],\n",
              "       [0],\n",
              "       [1],\n",
              "       [1],\n",
              "       [0],\n",
              "       [1],\n",
              "       [1],\n",
              "       [1],\n",
              "       [0],\n",
              "       [1],\n",
              "       [0],\n",
              "       [0],\n",
              "       [1],\n",
              "       [0],\n",
              "       [0],\n",
              "       [1],\n",
              "       [1],\n",
              "       [1],\n",
              "       [1],\n",
              "       [0],\n",
              "       [1],\n",
              "       [0],\n",
              "       [1],\n",
              "       [1],\n",
              "       [1],\n",
              "       [1],\n",
              "       [0],\n",
              "       [0],\n",
              "       [0],\n",
              "       [0],\n",
              "       [0],\n",
              "       [1],\n",
              "       [0],\n",
              "       [0],\n",
              "       [1],\n",
              "       [1],\n",
              "       [0],\n",
              "       [0],\n",
              "       [0],\n",
              "       [0],\n",
              "       [1],\n",
              "       [1],\n",
              "       [1],\n",
              "       [1],\n",
              "       [1],\n",
              "       [0],\n",
              "       [1],\n",
              "       [0],\n",
              "       [1],\n",
              "       [1],\n",
              "       [1],\n",
              "       [0],\n",
              "       [0],\n",
              "       [1],\n",
              "       [0],\n",
              "       [1],\n",
              "       [1],\n",
              "       [0],\n",
              "       [1],\n",
              "       [0],\n",
              "       [0],\n",
              "       [1],\n",
              "       [1],\n",
              "       [0],\n",
              "       [1],\n",
              "       [0],\n",
              "       [1],\n",
              "       [1],\n",
              "       [1],\n",
              "       [0],\n",
              "       [0],\n",
              "       [0],\n",
              "       [1],\n",
              "       [0],\n",
              "       [1],\n",
              "       [1],\n",
              "       [1],\n",
              "       [0],\n",
              "       [1],\n",
              "       [1],\n",
              "       [1],\n",
              "       [1],\n",
              "       [0],\n",
              "       [1],\n",
              "       [1],\n",
              "       [0],\n",
              "       [0],\n",
              "       [0],\n",
              "       [0],\n",
              "       [1],\n",
              "       [0],\n",
              "       [1],\n",
              "       [1],\n",
              "       [1],\n",
              "       [1],\n",
              "       [1],\n",
              "       [0],\n",
              "       [1],\n",
              "       [1],\n",
              "       [0],\n",
              "       [0],\n",
              "       [0],\n",
              "       [1],\n",
              "       [1],\n",
              "       [0],\n",
              "       [0],\n",
              "       [0],\n",
              "       [1],\n",
              "       [1],\n",
              "       [1],\n",
              "       [1],\n",
              "       [1],\n",
              "       [1],\n",
              "       [0],\n",
              "       [1],\n",
              "       [1],\n",
              "       [0],\n",
              "       [1],\n",
              "       [1],\n",
              "       [1],\n",
              "       [0],\n",
              "       [0],\n",
              "       [1],\n",
              "       [0],\n",
              "       [0],\n",
              "       [0],\n",
              "       [0],\n",
              "       [1],\n",
              "       [0],\n",
              "       [1],\n",
              "       [1],\n",
              "       [1],\n",
              "       [1],\n",
              "       [0],\n",
              "       [1],\n",
              "       [0],\n",
              "       [0],\n",
              "       [0],\n",
              "       [1],\n",
              "       [0],\n",
              "       [0],\n",
              "       [1],\n",
              "       [0],\n",
              "       [0],\n",
              "       [0],\n",
              "       [0],\n",
              "       [0],\n",
              "       [1],\n",
              "       [0],\n",
              "       [1],\n",
              "       [0],\n",
              "       [0],\n",
              "       [0],\n",
              "       [1],\n",
              "       [0],\n",
              "       [0],\n",
              "       [0],\n",
              "       [1],\n",
              "       [0],\n",
              "       [1],\n",
              "       [0],\n",
              "       [0],\n",
              "       [0],\n",
              "       [0],\n",
              "       [1],\n",
              "       [0],\n",
              "       [0],\n",
              "       [0],\n",
              "       [1],\n",
              "       [0],\n",
              "       [1],\n",
              "       [1],\n",
              "       [0],\n",
              "       [0],\n",
              "       [0],\n",
              "       [1],\n",
              "       [0],\n",
              "       [1],\n",
              "       [0],\n",
              "       [0],\n",
              "       [0],\n",
              "       [1],\n",
              "       [1],\n",
              "       [0],\n",
              "       [0],\n",
              "       [1],\n",
              "       [0],\n",
              "       [0],\n",
              "       [1],\n",
              "       [0],\n",
              "       [0],\n",
              "       [1],\n",
              "       [1],\n",
              "       [1],\n",
              "       [1],\n",
              "       [1],\n",
              "       [1],\n",
              "       [1],\n",
              "       [1],\n",
              "       [1],\n",
              "       [0],\n",
              "       [1],\n",
              "       [0],\n",
              "       [0],\n",
              "       [1],\n",
              "       [0],\n",
              "       [0],\n",
              "       [1],\n",
              "       [0],\n",
              "       [0],\n",
              "       [1],\n",
              "       [1],\n",
              "       [0],\n",
              "       [0],\n",
              "       [0],\n",
              "       [1],\n",
              "       [0],\n",
              "       [0],\n",
              "       [0],\n",
              "       [0],\n",
              "       [0],\n",
              "       [1],\n",
              "       [0],\n",
              "       [0],\n",
              "       [1],\n",
              "       [1],\n",
              "       [0],\n",
              "       [1],\n",
              "       [1],\n",
              "       [0],\n",
              "       [1],\n",
              "       [0],\n",
              "       [0],\n",
              "       [0],\n",
              "       [0],\n",
              "       [1],\n",
              "       [0],\n",
              "       [0],\n",
              "       [0],\n",
              "       [0],\n",
              "       [0],\n",
              "       [0],\n",
              "       [1],\n",
              "       [0],\n",
              "       [0],\n",
              "       [1],\n",
              "       [0],\n",
              "       [1],\n",
              "       [1],\n",
              "       [1],\n",
              "       [1],\n",
              "       [0],\n",
              "       [0],\n",
              "       [0],\n",
              "       [0],\n",
              "       [1],\n",
              "       [0],\n",
              "       [1],\n",
              "       [0],\n",
              "       [0],\n",
              "       [0],\n",
              "       [0],\n",
              "       [0],\n",
              "       [1],\n",
              "       [0],\n",
              "       [1],\n",
              "       [0],\n",
              "       [0],\n",
              "       [0],\n",
              "       [1],\n",
              "       [1],\n",
              "       [1],\n",
              "       [0],\n",
              "       [1],\n",
              "       [1],\n",
              "       [0],\n",
              "       [1],\n",
              "       [1],\n",
              "       [1],\n",
              "       [0],\n",
              "       [1],\n",
              "       [0],\n",
              "       [0],\n",
              "       [0],\n",
              "       [1],\n",
              "       [0],\n",
              "       [1],\n",
              "       [0],\n",
              "       [1],\n",
              "       [0],\n",
              "       [0],\n",
              "       [0],\n",
              "       [1],\n",
              "       [0],\n",
              "       [0],\n",
              "       [0],\n",
              "       [0],\n",
              "       [1],\n",
              "       [1],\n",
              "       [1],\n",
              "       [0],\n",
              "       [1],\n",
              "       [0],\n",
              "       [1],\n",
              "       [1],\n",
              "       [0],\n",
              "       [0],\n",
              "       [1],\n",
              "       [1],\n",
              "       [0],\n",
              "       [1],\n",
              "       [1],\n",
              "       [0],\n",
              "       [1],\n",
              "       [0],\n",
              "       [1],\n",
              "       [0],\n",
              "       [0],\n",
              "       [0],\n",
              "       [0],\n",
              "       [1],\n",
              "       [1],\n",
              "       [0],\n",
              "       [1],\n",
              "       [1],\n",
              "       [1],\n",
              "       [1],\n",
              "       [1],\n",
              "       [0],\n",
              "       [1],\n",
              "       [1],\n",
              "       [0],\n",
              "       [0],\n",
              "       [0],\n",
              "       [1],\n",
              "       [1],\n",
              "       [1],\n",
              "       [1],\n",
              "       [0],\n",
              "       [0],\n",
              "       [1],\n",
              "       [0],\n",
              "       [1],\n",
              "       [0],\n",
              "       [1],\n",
              "       [0],\n",
              "       [1],\n",
              "       [0],\n",
              "       [1],\n",
              "       [0],\n",
              "       [1],\n",
              "       [1],\n",
              "       [0],\n",
              "       [0],\n",
              "       [0],\n",
              "       [1],\n",
              "       [1],\n",
              "       [0],\n",
              "       [0],\n",
              "       [1],\n",
              "       [0],\n",
              "       [0],\n",
              "       [0],\n",
              "       [1],\n",
              "       [1],\n",
              "       [0],\n",
              "       [0],\n",
              "       [1],\n",
              "       [1],\n",
              "       [1],\n",
              "       [0],\n",
              "       [1],\n",
              "       [1],\n",
              "       [1],\n",
              "       [1],\n",
              "       [1],\n",
              "       [0],\n",
              "       [0],\n",
              "       [0],\n",
              "       [0],\n",
              "       [0],\n",
              "       [1],\n",
              "       [0],\n",
              "       [0],\n",
              "       [1],\n",
              "       [1],\n",
              "       [0],\n",
              "       [1],\n",
              "       [1],\n",
              "       [1],\n",
              "       [0],\n",
              "       [0],\n",
              "       [0],\n",
              "       [0],\n",
              "       [1],\n",
              "       [1],\n",
              "       [1],\n",
              "       [1],\n",
              "       [0],\n",
              "       [0],\n",
              "       [0],\n",
              "       [0],\n",
              "       [1],\n",
              "       [1],\n",
              "       [1],\n",
              "       [1],\n",
              "       [0],\n",
              "       [0],\n",
              "       [0],\n",
              "       [0],\n",
              "       [1],\n",
              "       [0],\n",
              "       [1],\n",
              "       [0],\n",
              "       [1],\n",
              "       [1],\n",
              "       [1],\n",
              "       [0],\n",
              "       [1],\n",
              "       [1],\n",
              "       [1],\n",
              "       [1],\n",
              "       [1],\n",
              "       [1],\n",
              "       [1],\n",
              "       [1],\n",
              "       [0],\n",
              "       [0],\n",
              "       [0],\n",
              "       [1],\n",
              "       [0],\n",
              "       [1],\n",
              "       [1],\n",
              "       [1],\n",
              "       [1],\n",
              "       [1],\n",
              "       [0],\n",
              "       [0],\n",
              "       [0],\n",
              "       [1],\n",
              "       [1],\n",
              "       [0],\n",
              "       [0],\n",
              "       [1],\n",
              "       [1],\n",
              "       [0],\n",
              "       [0],\n",
              "       [0],\n",
              "       [0],\n",
              "       [0],\n",
              "       [1],\n",
              "       [1],\n",
              "       [0],\n",
              "       [0],\n",
              "       [1],\n",
              "       [0],\n",
              "       [1],\n",
              "       [0],\n",
              "       [1],\n",
              "       [0],\n",
              "       [1],\n",
              "       [1],\n",
              "       [1],\n",
              "       [0],\n",
              "       [0],\n",
              "       [0],\n",
              "       [1],\n",
              "       [1],\n",
              "       [1],\n",
              "       [1],\n",
              "       [1],\n",
              "       [1],\n",
              "       [0],\n",
              "       [1],\n",
              "       [0],\n",
              "       [1],\n",
              "       [1],\n",
              "       [0],\n",
              "       [1],\n",
              "       [0],\n",
              "       [1],\n",
              "       [1],\n",
              "       [1],\n",
              "       [0],\n",
              "       [0],\n",
              "       [1],\n",
              "       [0],\n",
              "       [0]])"
            ]
          },
          "metadata": {},
          "execution_count": 15
        }
      ]
    },
    {
      "cell_type": "code",
      "source": [
        "X_test"
      ],
      "metadata": {
        "id": "qYs5_VRP0x7I",
        "colab": {
          "base_uri": "https://localhost:8080/"
        },
        "outputId": "d6d9bc06-c3a3-498f-ab29-430424deec70"
      },
      "execution_count": null,
      "outputs": [
        {
          "output_type": "execute_result",
          "data": {
            "text/plain": [
              "array([[129.96, 122.01, 120.53, ..., 121.8 , 121.71, 120.53],\n",
              "       [122.18, 113.16, 111.19, ..., 112.08, 111.83, 111.19],\n",
              "       [128.59, 120.45, 118.35, ..., 119.99, 120.07, 118.35],\n",
              "       ...,\n",
              "       [127.54, 119.26, 117.02, ..., 118.67, 118.76, 117.02],\n",
              "       [123.8 , 115.01, 114.84, ..., 113.58, 109.52, 114.84],\n",
              "       [123.8 , 115.01, 114.84, ..., 113.58, 109.52, 114.84]])"
            ]
          },
          "metadata": {},
          "execution_count": 16
        }
      ]
    },
    {
      "cell_type": "code",
      "source": [
        "y_test"
      ],
      "metadata": {
        "id": "E26W4-iF0zxh",
        "colab": {
          "base_uri": "https://localhost:8080/"
        },
        "outputId": "7f501a4d-3429-43f6-d012-8666adacc1d7"
      },
      "execution_count": null,
      "outputs": [
        {
          "output_type": "execute_result",
          "data": {
            "text/plain": [
              "array([[0],\n",
              "       [1],\n",
              "       [0],\n",
              "       [0],\n",
              "       [1],\n",
              "       [0],\n",
              "       [0],\n",
              "       [1],\n",
              "       [1],\n",
              "       [1],\n",
              "       [1],\n",
              "       [1],\n",
              "       [1],\n",
              "       [0],\n",
              "       [1],\n",
              "       [0],\n",
              "       [1],\n",
              "       [1],\n",
              "       [0],\n",
              "       [0],\n",
              "       [1],\n",
              "       [0],\n",
              "       [1],\n",
              "       [1],\n",
              "       [0],\n",
              "       [1],\n",
              "       [0],\n",
              "       [1],\n",
              "       [1],\n",
              "       [0],\n",
              "       [1],\n",
              "       [0],\n",
              "       [0],\n",
              "       [1],\n",
              "       [0],\n",
              "       [0],\n",
              "       [0],\n",
              "       [0],\n",
              "       [1],\n",
              "       [0],\n",
              "       [0],\n",
              "       [0],\n",
              "       [1],\n",
              "       [1],\n",
              "       [1],\n",
              "       [1],\n",
              "       [0],\n",
              "       [0],\n",
              "       [1],\n",
              "       [1],\n",
              "       [0],\n",
              "       [0],\n",
              "       [0],\n",
              "       [0],\n",
              "       [0],\n",
              "       [1],\n",
              "       [0],\n",
              "       [0],\n",
              "       [0],\n",
              "       [0],\n",
              "       [1],\n",
              "       [1],\n",
              "       [0],\n",
              "       [0],\n",
              "       [1],\n",
              "       [1],\n",
              "       [1],\n",
              "       [0],\n",
              "       [0],\n",
              "       [1],\n",
              "       [1],\n",
              "       [0],\n",
              "       [0],\n",
              "       [0],\n",
              "       [0],\n",
              "       [0],\n",
              "       [0],\n",
              "       [1],\n",
              "       [1],\n",
              "       [0],\n",
              "       [1],\n",
              "       [0],\n",
              "       [1],\n",
              "       [1],\n",
              "       [1],\n",
              "       [0],\n",
              "       [0],\n",
              "       [1],\n",
              "       [1],\n",
              "       [0],\n",
              "       [1],\n",
              "       [0],\n",
              "       [0],\n",
              "       [0],\n",
              "       [0],\n",
              "       [1],\n",
              "       [1],\n",
              "       [0],\n",
              "       [0],\n",
              "       [0],\n",
              "       [1],\n",
              "       [1],\n",
              "       [1],\n",
              "       [1],\n",
              "       [0],\n",
              "       [0],\n",
              "       [0],\n",
              "       [1],\n",
              "       [1],\n",
              "       [1],\n",
              "       [1],\n",
              "       [1],\n",
              "       [1],\n",
              "       [0],\n",
              "       [1],\n",
              "       [1],\n",
              "       [0],\n",
              "       [0],\n",
              "       [1],\n",
              "       [1],\n",
              "       [0],\n",
              "       [0],\n",
              "       [1],\n",
              "       [0],\n",
              "       [0],\n",
              "       [0],\n",
              "       [1],\n",
              "       [1],\n",
              "       [1],\n",
              "       [1],\n",
              "       [1],\n",
              "       [0],\n",
              "       [1],\n",
              "       [0],\n",
              "       [0],\n",
              "       [0],\n",
              "       [0],\n",
              "       [1],\n",
              "       [0],\n",
              "       [0],\n",
              "       [0],\n",
              "       [1],\n",
              "       [1],\n",
              "       [1],\n",
              "       [0],\n",
              "       [1],\n",
              "       [1],\n",
              "       [0],\n",
              "       [1],\n",
              "       [1],\n",
              "       [1],\n",
              "       [0],\n",
              "       [1],\n",
              "       [1],\n",
              "       [0],\n",
              "       [0],\n",
              "       [1],\n",
              "       [1],\n",
              "       [0],\n",
              "       [1],\n",
              "       [0],\n",
              "       [1],\n",
              "       [0],\n",
              "       [1],\n",
              "       [1],\n",
              "       [0],\n",
              "       [0],\n",
              "       [1],\n",
              "       [1],\n",
              "       [0],\n",
              "       [0],\n",
              "       [0],\n",
              "       [0],\n",
              "       [1],\n",
              "       [1],\n",
              "       [0],\n",
              "       [0],\n",
              "       [1],\n",
              "       [0],\n",
              "       [0],\n",
              "       [1],\n",
              "       [1],\n",
              "       [1],\n",
              "       [1],\n",
              "       [0],\n",
              "       [0],\n",
              "       [0],\n",
              "       [0],\n",
              "       [1],\n",
              "       [0],\n",
              "       [1],\n",
              "       [1],\n",
              "       [1],\n",
              "       [0],\n",
              "       [1],\n",
              "       [0],\n",
              "       [0],\n",
              "       [1],\n",
              "       [0],\n",
              "       [0],\n",
              "       [0]])"
            ]
          },
          "metadata": {},
          "execution_count": 17
        }
      ]
    },
    {
      "cell_type": "code",
      "source": [
        "model = keras.Sequential()\n",
        "model.add(keras.layers.Dense(64, activation='relu', input_shape=(13,)))\n",
        "\n",
        "model.add(keras.layers.Dense(128, activation='relu'))\n",
        "\n",
        "model.add(keras.layers.Dense(256, activation='relu'))\n",
        "\n",
        "model.add(keras.layers.Dense(128, activation='relu'))\n",
        "\n",
        "model.add(keras.layers.Dense(1, activation = 'sigmoid'))\n",
        "\n",
        "model.compile(optimizer='adam', loss='binary_crossentropy',\n",
        "              metrics=['accuracy'])"
      ],
      "metadata": {
        "id": "gcso11I-02pY"
      },
      "execution_count": null,
      "outputs": []
    },
    {
      "cell_type": "code",
      "source": [
        "model.fit(X_train, y_train, validation_data=(X_test, y_test), epochs=40)"
      ],
      "metadata": {
        "id": "q1n7J0vt1GyB",
        "colab": {
          "base_uri": "https://localhost:8080/"
        },
        "outputId": "d3121558-3a58-4176-fb3f-7124187151f7"
      },
      "execution_count": null,
      "outputs": [
        {
          "output_type": "stream",
          "name": "stdout",
          "text": [
            "Train on 640 samples, validate on 201 samples\n",
            "Epoch 1/40\n",
            "640/640 [==============================] - 0s 695us/sample - loss: 4.2366 - acc: 0.5500 - val_loss: 2.0451 - val_acc: 0.4677\n",
            "Epoch 2/40\n",
            "640/640 [==============================] - 0s 95us/sample - loss: 0.9496 - acc: 0.6125 - val_loss: 0.5117 - val_acc: 0.7960\n",
            "Epoch 3/40\n",
            "640/640 [==============================] - 0s 97us/sample - loss: 0.5441 - acc: 0.7250 - val_loss: 0.4750 - val_acc: 0.8209\n",
            "Epoch 4/40\n",
            " 32/640 [>.............................] - ETA: 0s - loss: 0.5660 - acc: 0.6875"
          ]
        },
        {
          "output_type": "stream",
          "name": "stderr",
          "text": [
            "/usr/local/lib/python3.7/dist-packages/keras/engine/training_v1.py:2057: UserWarning: `Model.state_updates` will be removed in a future version. This property should not be used in TensorFlow 2.0, as `updates` are applied automatically.\n",
            "  updates = self.state_updates\n"
          ]
        },
        {
          "output_type": "stream",
          "name": "stdout",
          "text": [
            "640/640 [==============================] - 0s 141us/sample - loss: 0.5029 - acc: 0.7563 - val_loss: 0.3847 - val_acc: 0.8308\n",
            "Epoch 5/40\n",
            "640/640 [==============================] - 0s 144us/sample - loss: 0.4095 - acc: 0.8266 - val_loss: 0.9134 - val_acc: 0.4925\n",
            "Epoch 6/40\n",
            "640/640 [==============================] - 0s 151us/sample - loss: 0.4592 - acc: 0.7750 - val_loss: 0.3474 - val_acc: 0.8557\n",
            "Epoch 7/40\n",
            "640/640 [==============================] - 0s 139us/sample - loss: 0.3673 - acc: 0.8453 - val_loss: 0.4035 - val_acc: 0.8259\n",
            "Epoch 8/40\n",
            "640/640 [==============================] - 0s 139us/sample - loss: 0.4095 - acc: 0.8047 - val_loss: 0.3043 - val_acc: 0.8955\n",
            "Epoch 9/40\n",
            "640/640 [==============================] - 0s 129us/sample - loss: 0.3432 - acc: 0.8594 - val_loss: 0.2712 - val_acc: 0.8806\n",
            "Epoch 10/40\n",
            "640/640 [==============================] - 0s 156us/sample - loss: 0.3063 - acc: 0.8750 - val_loss: 0.2444 - val_acc: 0.9154\n",
            "Epoch 11/40\n",
            "640/640 [==============================] - 0s 130us/sample - loss: 0.3043 - acc: 0.8703 - val_loss: 0.3183 - val_acc: 0.8657\n",
            "Epoch 12/40\n",
            "640/640 [==============================] - 0s 127us/sample - loss: 0.3801 - acc: 0.8172 - val_loss: 0.2912 - val_acc: 0.8706\n",
            "Epoch 13/40\n",
            "640/640 [==============================] - 0s 120us/sample - loss: 0.3772 - acc: 0.8313 - val_loss: 0.2853 - val_acc: 0.8607\n",
            "Epoch 14/40\n",
            "640/640 [==============================] - 0s 152us/sample - loss: 0.3879 - acc: 0.8156 - val_loss: 0.2540 - val_acc: 0.8905\n",
            "Epoch 15/40\n",
            "640/640 [==============================] - 0s 105us/sample - loss: 0.3305 - acc: 0.8703 - val_loss: 0.1968 - val_acc: 0.9254\n",
            "Epoch 16/40\n",
            "640/640 [==============================] - 0s 101us/sample - loss: 0.2454 - acc: 0.9031 - val_loss: 0.2303 - val_acc: 0.8955\n",
            "Epoch 17/40\n",
            "640/640 [==============================] - 0s 180us/sample - loss: 0.3211 - acc: 0.8594 - val_loss: 0.2085 - val_acc: 0.9154\n",
            "Epoch 18/40\n",
            "640/640 [==============================] - 0s 117us/sample - loss: 0.3277 - acc: 0.8500 - val_loss: 0.2255 - val_acc: 0.9005\n",
            "Epoch 19/40\n",
            "640/640 [==============================] - 0s 100us/sample - loss: 0.3923 - acc: 0.8391 - val_loss: 0.3046 - val_acc: 0.8905\n",
            "Epoch 20/40\n",
            "640/640 [==============================] - 0s 93us/sample - loss: 0.2641 - acc: 0.8984 - val_loss: 0.1810 - val_acc: 0.9502\n",
            "Epoch 21/40\n",
            "640/640 [==============================] - 0s 98us/sample - loss: 0.2503 - acc: 0.9031 - val_loss: 0.2123 - val_acc: 0.9154\n",
            "Epoch 22/40\n",
            "640/640 [==============================] - 0s 97us/sample - loss: 0.2374 - acc: 0.9000 - val_loss: 0.3839 - val_acc: 0.8458\n",
            "Epoch 23/40\n",
            "640/640 [==============================] - 0s 122us/sample - loss: 0.2222 - acc: 0.9094 - val_loss: 0.1882 - val_acc: 0.9403\n",
            "Epoch 24/40\n",
            "640/640 [==============================] - 0s 91us/sample - loss: 0.2002 - acc: 0.9344 - val_loss: 0.1581 - val_acc: 0.9552\n",
            "Epoch 25/40\n",
            "640/640 [==============================] - 0s 105us/sample - loss: 0.2593 - acc: 0.9031 - val_loss: 0.1582 - val_acc: 0.9403\n",
            "Epoch 26/40\n",
            "640/640 [==============================] - 0s 112us/sample - loss: 0.3505 - acc: 0.8531 - val_loss: 0.1648 - val_acc: 0.9303\n",
            "Epoch 27/40\n",
            "640/640 [==============================] - 0s 92us/sample - loss: 0.2082 - acc: 0.9234 - val_loss: 0.2281 - val_acc: 0.9204\n",
            "Epoch 28/40\n",
            "640/640 [==============================] - 0s 145us/sample - loss: 0.2746 - acc: 0.8891 - val_loss: 0.1650 - val_acc: 0.9353\n",
            "Epoch 29/40\n",
            "640/640 [==============================] - 0s 125us/sample - loss: 0.2330 - acc: 0.9125 - val_loss: 0.1452 - val_acc: 0.9602\n",
            "Epoch 30/40\n",
            "640/640 [==============================] - 0s 135us/sample - loss: 0.1939 - acc: 0.9344 - val_loss: 0.1443 - val_acc: 0.9453\n",
            "Epoch 31/40\n",
            "640/640 [==============================] - 0s 122us/sample - loss: 0.2212 - acc: 0.9187 - val_loss: 0.1549 - val_acc: 0.9403\n",
            "Epoch 32/40\n",
            "640/640 [==============================] - 0s 133us/sample - loss: 0.1904 - acc: 0.9328 - val_loss: 0.1473 - val_acc: 0.9602\n",
            "Epoch 33/40\n",
            "640/640 [==============================] - 0s 139us/sample - loss: 0.3396 - acc: 0.8672 - val_loss: 0.2352 - val_acc: 0.9055\n",
            "Epoch 34/40\n",
            "640/640 [==============================] - 0s 104us/sample - loss: 0.2266 - acc: 0.9125 - val_loss: 0.1775 - val_acc: 0.9303\n",
            "Epoch 35/40\n",
            "640/640 [==============================] - 0s 158us/sample - loss: 0.1800 - acc: 0.9391 - val_loss: 0.1548 - val_acc: 0.9403\n",
            "Epoch 36/40\n",
            "640/640 [==============================] - 0s 133us/sample - loss: 0.1853 - acc: 0.9359 - val_loss: 0.1628 - val_acc: 0.9453\n",
            "Epoch 37/40\n",
            "640/640 [==============================] - 0s 134us/sample - loss: 0.2241 - acc: 0.9187 - val_loss: 0.1987 - val_acc: 0.9254\n",
            "Epoch 38/40\n",
            "640/640 [==============================] - 0s 139us/sample - loss: 0.2875 - acc: 0.8953 - val_loss: 0.1789 - val_acc: 0.9502\n",
            "Epoch 39/40\n",
            "640/640 [==============================] - 0s 134us/sample - loss: 0.2987 - acc: 0.8938 - val_loss: 0.1591 - val_acc: 0.9453\n",
            "Epoch 40/40\n",
            "640/640 [==============================] - 0s 126us/sample - loss: 0.2388 - acc: 0.9016 - val_loss: 0.2194 - val_acc: 0.9204\n"
          ]
        },
        {
          "output_type": "execute_result",
          "data": {
            "text/plain": [
              "<keras.callbacks.History at 0x7f8214f55150>"
            ]
          },
          "metadata": {},
          "execution_count": 21
        }
      ]
    },
    {
      "cell_type": "code",
      "source": [
        "print(model.evaluate(x=X_train, y=y_train))\n",
        "model.metrics_names"
      ],
      "metadata": {
        "id": "Cobr5jMc1qU4",
        "colab": {
          "base_uri": "https://localhost:8080/"
        },
        "outputId": "87b7a6f1-3bc1-44d5-91b8-08c4a221c790"
      },
      "execution_count": null,
      "outputs": [
        {
          "output_type": "stream",
          "name": "stdout",
          "text": [
            "[0.25124823302030563, 0.9109375]\n"
          ]
        },
        {
          "output_type": "execute_result",
          "data": {
            "text/plain": [
              "['loss', 'acc']"
            ]
          },
          "metadata": {},
          "execution_count": 22
        }
      ]
    },
    {
      "cell_type": "code",
      "source": [
        "print(model.evaluate(x=X_test, y=y_test))\n",
        "model.metrics_names"
      ],
      "metadata": {
        "id": "3awBiXo31sbg",
        "colab": {
          "base_uri": "https://localhost:8080/"
        },
        "outputId": "6666bf70-1295-4a44-809c-6f4b1edf6533"
      },
      "execution_count": null,
      "outputs": [
        {
          "output_type": "stream",
          "name": "stdout",
          "text": [
            "[0.21935509478867943, 0.920398]\n"
          ]
        },
        {
          "output_type": "execute_result",
          "data": {
            "text/plain": [
              "['loss', 'acc']"
            ]
          },
          "metadata": {},
          "execution_count": 23
        }
      ]
    },
    {
      "cell_type": "code",
      "source": [
        "Y_pred = model.predict(X_test)\n",
        "Y_pred = [ 1 if y>=0.5 else 0 for y in Y_pred ]\n",
        "print(Y_pred)"
      ],
      "metadata": {
        "id": "ubeawRIc1ujo",
        "colab": {
          "base_uri": "https://localhost:8080/"
        },
        "outputId": "4844ef8d-c329-474e-cd39-61615a001389"
      },
      "execution_count": null,
      "outputs": [
        {
          "output_type": "stream",
          "name": "stdout",
          "text": [
            "[0, 0, 0, 1, 1, 0, 0, 0, 1, 1, 1, 1, 0, 0, 1, 0, 1, 0, 0, 0, 1, 0, 1, 1, 0, 1, 0, 1, 1, 0, 1, 1, 1, 1, 0, 0, 0, 0, 1, 0, 0, 0, 1, 1, 1, 1, 0, 0, 1, 1, 0, 0, 0, 0, 0, 1, 0, 0, 0, 0, 1, 1, 0, 0, 1, 1, 1, 0, 0, 1, 1, 0, 1, 0, 0, 0, 0, 1, 1, 0, 1, 0, 1, 1, 1, 0, 0, 1, 1, 0, 1, 0, 0, 0, 0, 1, 1, 0, 0, 1, 1, 1, 1, 1, 0, 1, 0, 1, 1, 1, 1, 1, 1, 0, 1, 1, 0, 0, 1, 1, 1, 0, 1, 0, 0, 0, 1, 1, 1, 1, 1, 0, 1, 0, 0, 0, 0, 0, 1, 0, 0, 1, 1, 1, 0, 1, 1, 0, 1, 1, 1, 0, 1, 1, 0, 0, 1, 1, 0, 1, 0, 1, 0, 1, 1, 0, 0, 1, 1, 0, 0, 1, 0, 1, 1, 1, 0, 1, 0, 0, 1, 1, 1, 1, 0, 0, 0, 0, 1, 0, 1, 1, 1, 0, 1, 1, 0, 1, 0, 0, 0]\n"
          ]
        },
        {
          "output_type": "stream",
          "name": "stderr",
          "text": [
            "/usr/local/lib/python3.7/dist-packages/keras/engine/training_v1.py:2079: UserWarning: `Model.state_updates` will be removed in a future version. This property should not be used in TensorFlow 2.0, as `updates` are applied automatically.\n",
            "  updates=self.state_updates,\n"
          ]
        }
      ]
    },
    {
      "cell_type": "code",
      "source": [
        "combinedDF = pd.concat([pd.DataFrame(X_train), pd.DataFrame(y_train)], axis=1)\n",
        "combinedDF\n",
        "#combinedDF = combinedDF.rename(columns={'0': '13'})\n",
        "combinedDF = combinedDF.set_axis(['0', '1', '2','3','4','5','6','7','8','9', '10', '11', '12', '13'], axis='columns')\n",
        "print(combinedDF)"
      ],
      "metadata": {
        "id": "onLJQR1C1w2K",
        "colab": {
          "base_uri": "https://localhost:8080/"
        },
        "outputId": "5f9a7e92-c41d-4df3-c921-56152f8c6060"
      },
      "execution_count": null,
      "outputs": [
        {
          "output_type": "stream",
          "name": "stdout",
          "text": [
            "          0       1       2       3       4       5       6       7       8  \\\n",
            "0    123.80  115.01  114.84  113.58  107.14  109.52  111.69   82.28  113.46   \n",
            "1    126.21  117.74  117.06  116.85  112.01  114.20  116.37   94.20   47.12   \n",
            "2    130.28  122.37  121.40  122.23  120.13  121.88  123.82  117.13  111.89   \n",
            "3    129.96  122.01  120.53  121.80  120.21  121.71  123.67  117.88  112.76   \n",
            "4    123.62  114.80  115.97  115.11   98.33  110.33  112.60   98.11   95.07   \n",
            "..      ...     ...     ...     ...     ...     ...     ...     ...     ...   \n",
            "635  129.25  121.20  119.63  120.91  119.35  120.82  122.78  117.01  111.89   \n",
            "636  129.25  121.20  119.63  120.91  119.35  120.82  122.78  117.01  111.89   \n",
            "637   68.44   52.29   45.32   40.90   41.02   39.17   32.31   37.19   30.76   \n",
            "638  130.28  122.37  121.40  122.23  120.13  121.88  123.82  117.13  111.89   \n",
            "639  127.54  119.26  117.02  118.67  117.66  118.76  120.74  115.86  110.79   \n",
            "\n",
            "           9      10      11      12  13  \n",
            "0    115.680  113.58  109.52  114.84   0  \n",
            "1    104.490  116.85  114.20  117.06   1  \n",
            "2    119.690  122.23  121.88  121.40   0  \n",
            "3    120.210  121.80  121.71  120.53   0  \n",
            "4    122.220  115.11  110.33  115.97   1  \n",
            "..       ...     ...     ...     ...  ..  \n",
            "635  113.250  120.91  120.82  119.63   0  \n",
            "636  125.260  120.91  120.82  119.63   0  \n",
            "637  101.620   40.90   39.17   45.32   1  \n",
            "638  121.023  122.23  121.88  121.40   0  \n",
            "639  129.630  118.67  118.76  117.02   0  \n",
            "\n",
            "[640 rows x 14 columns]\n"
          ]
        }
      ]
    },
    {
      "cell_type": "code",
      "source": [
        "total = 0\n",
        "correct = 0\n",
        "wrong = 0\n",
        "wrong_prediction_df = pd.DataFrame(columns = [\"Junc 11\", \"Junc 4\", \"Junc 1\", \"Junc 131\", \"Junc 150\", \"Junc 81\", \"Junc 137\", \"Junc 27\", \"Junc 30\", \"Junc 15\", \"Junc 45\", \"Junc 60\", \"Junc 25\", 'Condition'], dtype=object) \n",
        "for i in range(len(Y_pred)):\n",
        "  total=total+1\n",
        "  if(y_test[i] == Y_pred[i]):\n",
        "    correct=correct+1\n",
        "  else:\n",
        "    wrong=wrong+1\n",
        "    currentPressureArray = X_test[i].tolist()\n",
        "    currentPressureArray.append(y_test[i])\n",
        "    df = df[~df.index.duplicated()]\n",
        "    wrong_prediction_df = wrong_prediction_df.append(pd.Series(currentPressureArray, index = combinedDF.columns), ignore_index=True)\n",
        "\n",
        "\n",
        "print(\"Total \" + str(total))\n",
        "print(\"Correct \" + str(correct))\n",
        "print(\"Wrong \" + str(wrong))\n",
        "print(wrong_prediction_df)"
      ],
      "metadata": {
        "id": "daIvx6ou2Agy",
        "colab": {
          "base_uri": "https://localhost:8080/"
        },
        "outputId": "dfe2a741-249e-451f-b1f1-0497ba1ddcce"
      },
      "execution_count": null,
      "outputs": [
        {
          "output_type": "stream",
          "name": "stdout",
          "text": [
            "Total 201\n",
            "Correct 185\n",
            "Wrong 16\n",
            "    Junc 11  Junc 4  Junc 1  Junc 131  Junc 150  Junc 81  Junc 137  Junc 27  \\\n",
            "0       NaN     NaN     NaN       NaN       NaN      NaN       NaN      NaN   \n",
            "1       NaN     NaN     NaN       NaN       NaN      NaN       NaN      NaN   \n",
            "2       NaN     NaN     NaN       NaN       NaN      NaN       NaN      NaN   \n",
            "3       NaN     NaN     NaN       NaN       NaN      NaN       NaN      NaN   \n",
            "4       NaN     NaN     NaN       NaN       NaN      NaN       NaN      NaN   \n",
            "5       NaN     NaN     NaN       NaN       NaN      NaN       NaN      NaN   \n",
            "6       NaN     NaN     NaN       NaN       NaN      NaN       NaN      NaN   \n",
            "7       NaN     NaN     NaN       NaN       NaN      NaN       NaN      NaN   \n",
            "8       NaN     NaN     NaN       NaN       NaN      NaN       NaN      NaN   \n",
            "9       NaN     NaN     NaN       NaN       NaN      NaN       NaN      NaN   \n",
            "10      NaN     NaN     NaN       NaN       NaN      NaN       NaN      NaN   \n",
            "11      NaN     NaN     NaN       NaN       NaN      NaN       NaN      NaN   \n",
            "12      NaN     NaN     NaN       NaN       NaN      NaN       NaN      NaN   \n",
            "13      NaN     NaN     NaN       NaN       NaN      NaN       NaN      NaN   \n",
            "14      NaN     NaN     NaN       NaN       NaN      NaN       NaN      NaN   \n",
            "15      NaN     NaN     NaN       NaN       NaN      NaN       NaN      NaN   \n",
            "\n",
            "    Junc 30  Junc 15  ...      12   13       2       3       4       5  \\\n",
            "0       NaN      NaN  ...  111.19  [1]  111.19  112.08  110.26  111.83   \n",
            "1       NaN      NaN  ...  121.40  [0]  121.40  122.23  120.13  121.88   \n",
            "2       NaN      NaN  ...  112.95  [1]  112.95  113.83  111.96  113.57   \n",
            "3       NaN      NaN  ...  109.85  [1]  109.85  110.75  108.97  110.52   \n",
            "4       NaN      NaN  ...  116.06  [1]  116.06  117.71  116.73  117.80   \n",
            "5       NaN      NaN  ...  121.40  [0]  121.40  122.23  120.13  121.88   \n",
            "6       NaN      NaN  ...  114.84  [0]  114.84  113.58  107.14  109.52   \n",
            "7       NaN      NaN  ...  121.40  [0]  121.40  122.23  120.13  121.88   \n",
            "8       NaN      NaN  ...  114.84  [0]  114.84  113.58  107.14  109.52   \n",
            "9       NaN      NaN  ...  114.84  [0]  114.84  113.58  107.14  109.52   \n",
            "10      NaN      NaN  ...  120.53  [0]  120.53  121.80  120.21  121.71   \n",
            "11      NaN      NaN  ...  116.99  [1]  116.99  118.63  117.63  118.72   \n",
            "12      NaN      NaN  ...  114.84  [0]  114.84  113.58  107.14  109.52   \n",
            "13      NaN      NaN  ...  114.84  [0]  114.84  113.58  107.14  109.52   \n",
            "14      NaN      NaN  ...  118.35  [0]  118.35  119.99  118.94  120.07   \n",
            "15      NaN      NaN  ...  121.40  [0]  121.40  122.23  120.13  121.88   \n",
            "\n",
            "         6       7       8       9  \n",
            "0   113.75  107.22  101.93  114.14  \n",
            "1   123.82  117.13  111.89  116.06  \n",
            "2   115.49  108.93  103.65  112.12  \n",
            "3   112.43  105.93  100.63  116.69  \n",
            "4   119.78  114.92  109.84  113.43  \n",
            "5   123.82  117.13  111.89  116.09  \n",
            "6   111.69   82.28   17.35  119.69  \n",
            "7   123.82  117.13  111.89  116.54  \n",
            "8   111.69   82.28   17.35  116.64  \n",
            "9   111.69  118.02  117.92  123.25  \n",
            "10  123.67  117.88  112.76  115.23  \n",
            "11  120.70  115.83  110.75  126.00  \n",
            "12  111.69   82.28   17.35  115.01  \n",
            "13  111.69   82.28   17.35  118.34  \n",
            "14  122.05  117.15  112.09  113.37  \n",
            "15  123.82  117.13  111.89  115.15  \n",
            "\n",
            "[16 rows x 28 columns]\n"
          ]
        }
      ]
    },
    {
      "cell_type": "markdown",
      "source": [
        "VISUALISATION OF DATA\n",
        "\n",
        "THE TRAIN SET PRESSURE DATA HAS BEEN PLOTTED FOR LEAK AND NON-LEAK CASE"
      ],
      "metadata": {
        "id": "ZcSz7Rl12GA4"
      }
    },
    {
      "cell_type": "code",
      "source": [
        "import matplotlib.pyplot as plt\n",
        "for col in combinedDF:  \n",
        "    if col != '13':\n",
        "        plt.scatter('13', col , data=combinedDF)\n",
        "        plt.ylabel(col +  'pressure')\n",
        "        plt.xlabel('0=no leak, 1=leak')\n",
        "        plt.axis([-0.1, 1.1, 0, 140])\n",
        "        plt.show()"
      ],
      "metadata": {
        "id": "3ifZJ66I2HLA",
        "colab": {
          "base_uri": "https://localhost:8080/",
          "height": 1000
        },
        "outputId": "a35c0435-b4dd-4aae-b4fb-b03d37d67285"
      },
      "execution_count": null,
      "outputs": [
        {
          "output_type": "display_data",
          "data": {
            "image/png": "[encoded data removed]",
            "text/plain": [
              "<Figure size 432x288 with 1 Axes>"
            ]
          },
          "metadata": {
            "needs_background": "light"
          }
        },
        {
          "output_type": "display_data",
          "data": {
            "image/png": "[encoded data removed]",
            "text/plain": [
              "<Figure size 432x288 with 1 Axes>"
            ]
          },
          "metadata": {
            "needs_background": "light"
          }
        },
        {
          "output_type": "display_data",
          "data": {
            "image/png": "[encoded data removed]",
            "text/plain": [
              "<Figure size 432x288 with 1 Axes>"
            ]
          },
          "metadata": {
            "needs_background": "light"
          }
        },
        {
          "output_type": "display_data",
          "data": {
            "image/png": "[encoded data removed]",
            "text/plain": [
              "<Figure size 432x288 with 1 Axes>"
            ]
          },
          "metadata": {
            "needs_background": "light"
          }
        },
        {
          "output_type": "display_data",
          "data": {
            "image/png": "[encoded data removed]",
            "text/plain": [
              "<Figure size 432x288 with 1 Axes>"
            ]
          },
          "metadata": {
            "needs_background": "light"
          }
        },
        {
          "output_type": "display_data",
          "data": {
            "image/png": "[encoded data removed]",
            "text/plain": [
              "<Figure size 432x288 with 1 Axes>"
            ]
          },
          "metadata": {
            "needs_background": "light"
          }
        },
        {
          "output_type": "display_data",
          "data": {
            "image/png": "[encoded data removed]",
            "text/plain": [
              "<Figure size 432x288 with 1 Axes>"
            ]
          },
          "metadata": {
            "needs_background": "light"
          }
        },
        {
          "output_type": "display_data",
          "data": {
            "image/png": "[encoded data removed]",
            "text/plain": [
              "<Figure size 432x288 with 1 Axes>"
            ]
          },
          "metadata": {
            "needs_background": "light"
          }
        },
        {
          "output_type": "display_data",
          "data": {
            "image/png": "[encoded data removed]",
            "text/plain": [
              "<Figure size 432x288 with 1 Axes>"
            ]
          },
          "metadata": {
            "needs_background": "light"
          }
        },
        {
          "output_type": "display_data",
          "data": {
            "image/png": "[encoded data removed]",
            "text/plain": [
              "<Figure size 432x288 with 1 Axes>"
            ]
          },
          "metadata": {
            "needs_background": "light"
          }
        },
        {
          "output_type": "display_data",
          "data": {
            "image/png": "[encoded data removed]",
            "text/plain": [
              "<Figure size 432x288 with 1 Axes>"
            ]
          },
          "metadata": {
            "needs_background": "light"
          }
        },
        {
          "output_type": "display_data",
          "data": {
            "image/png": "[encoded data removed]",
            "text/plain": [
              "<Figure size 432x288 with 1 Axes>"
            ]
          },
          "metadata": {
            "needs_background": "light"
          }
        },
        {
          "output_type": "display_data",
          "data": {
            "image/png": "[encoded data removed]",
            "text/plain": [
              "<Figure size 432x288 with 1 Axes>"
            ]
          },
          "metadata": {
            "needs_background": "light"
          }
        }
      ]
    },
    {
      "cell_type": "markdown",
      "source": [
        "VISUALISATION OF DATA:\n",
        "\n",
        "THE PRESSURES WHICH WERE WRONGLY PREDICTED"
      ],
      "metadata": {
        "id": "vvDBaZ4p2O-w"
      }
    },
    {
      "cell_type": "code",
      "source": [
        "for col in wrong_prediction_df:  \n",
        "    if col != '13':\n",
        "        plt.scatter('13', col , data=wrong_prediction_df)\n",
        "        plt.ylabel(col +  'pressure')\n",
        "        plt.xlabel('0=no leak, 1=leak')\n",
        "        plt.axis([-0.1, 1.1, 0, 140])\n",
        "        plt.show()"
      ],
      "metadata": {
        "id": "iECSy4Es2OVX",
        "colab": {
          "base_uri": "https://localhost:8080/",
          "height": 1000
        },
        "outputId": "349f042d-e43b-4e7f-c9d3-819cfab2fef0"
      },
      "execution_count": null,
      "outputs": [
        {
          "output_type": "display_data",
          "data": {
            "image/png": "[encoded data removed]",
            "text/plain": [
              "<Figure size 432x288 with 1 Axes>"
            ]
          },
          "metadata": {
            "needs_background": "light"
          }
        },
        {
          "output_type": "display_data",
          "data": {
            "image/png": "[encoded data removed]",
            "text/plain": [
              "<Figure size 432x288 with 1 Axes>"
            ]
          },
          "metadata": {
            "needs_background": "light"
          }
        },
        {
          "output_type": "display_data",
          "data": {
            "image/png": "[encoded data removed]",
            "text/plain": [
              "<Figure size 432x288 with 1 Axes>"
            ]
          },
          "metadata": {
            "needs_background": "light"
          }
        },
        {
          "output_type": "display_data",
          "data": {
            "image/png": "[encoded data removed]",
            "text/plain": [
              "<Figure size 432x288 with 1 Axes>"
            ]
          },
          "metadata": {
            "needs_background": "light"
          }
        },
        {
          "output_type": "display_data",
          "data": {
            "image/png": "[encoded data removed]",
            "text/plain": [
              "<Figure size 432x288 with 1 Axes>"
            ]
          },
          "metadata": {
            "needs_background": "light"
          }
        },
        {
          "output_type": "display_data",
          "data": {
            "image/png": "[encoded data removed]",
            "text/plain": [
              "<Figure size 432x288 with 1 Axes>"
            ]
          },
          "metadata": {
            "needs_background": "light"
          }
        },
        {
          "output_type": "display_data",
          "data": {
            "image/png": "[encoded data removed]",
            "text/plain": [
              "<Figure size 432x288 with 1 Axes>"
            ]
          },
          "metadata": {
            "needs_background": "light"
          }
        },
        {
          "output_type": "display_data",
          "data": {
            "image/png": "[encoded data removed]",
            "text/plain": [
              "<Figure size 432x288 with 1 Axes>"
            ]
          },
          "metadata": {
            "needs_background": "light"
          }
        },
        {
          "output_type": "display_data",
          "data": {
            "image/png": "[encoded data removed]",
            "text/plain": [
              "<Figure size 432x288 with 1 Axes>"
            ]
          },
          "metadata": {
            "needs_background": "light"
          }
        },
        {
          "output_type": "display_data",
          "data": {
            "image/png": "[encoded data removed]",
            "text/plain": [
              "<Figure size 432x288 with 1 Axes>"
            ]
          },
          "metadata": {
            "needs_background": "light"
          }
        },
        {
          "output_type": "display_data",
          "data": {
            "image/png": "[encoded data removed]",
            "text/plain": [
              "<Figure size 432x288 with 1 Axes>"
            ]
          },
          "metadata": {
            "needs_background": "light"
          }
        },
        {
          "output_type": "display_data",
          "data": {
            "image/png": "[encoded data removed]",
            "text/plain": [
              "<Figure size 432x288 with 1 Axes>"
            ]
          },
          "metadata": {
            "needs_background": "light"
          }
        },
        {
          "output_type": "display_data",
          "data": {
            "image/png": "[encoded data removed]",
            "text/plain": [
              "<Figure size 432x288 with 1 Axes>"
            ]
          },
          "metadata": {
            "needs_background": "light"
          }
        },
        {
          "output_type": "display_data",
          "data": {
            "image/png": "[encoded data removed]",
            "text/plain": [
              "<Figure size 432x288 with 1 Axes>"
            ]
          },
          "metadata": {
            "needs_background": "light"
          }
        },
        {
          "output_type": "display_data",
          "data": {
            "image/png": "[encoded data removed]",
            "text/plain": [
              "<Figure size 432x288 with 1 Axes>"
            ]
          },
          "metadata": {
            "needs_background": "light"
          }
        },
        {
          "output_type": "display_data",
          "data": {
            "image/png": "[encoded data removed]",
            "text/plain": [
              "<Figure size 432x288 with 1 Axes>"
            ]
          },
          "metadata": {
            "needs_background": "light"
          }
        },
        {
          "output_type": "display_data",
          "data": {
            "image/png": "[encoded data removed]",
            "text/plain": [
              "<Figure size 432x288 with 1 Axes>"
            ]
          },
          "metadata": {
            "needs_background": "light"
          }
        },
        {
          "output_type": "display_data",
          "data": {
            "image/png": "[encoded data removed]",
            "text/plain": [
              "<Figure size 432x288 with 1 Axes>"
            ]
          },
          "metadata": {
            "needs_background": "light"
          }
        },
        {
          "output_type": "display_data",
          "data": {
            "image/png": "[encoded data removed]",
            "text/plain": [
              "<Figure size 432x288 with 1 Axes>"
            ]
          },
          "metadata": {
            "needs_background": "light"
          }
        },
        {
          "output_type": "display_data",
          "data": {
            "image/png": "[encoded data removed]",
            "text/plain": [
              "<Figure size 432x288 with 1 Axes>"
            ]
          },
          "metadata": {
            "needs_background": "light"
          }
        },
        {
          "output_type": "display_data",
          "data": {
            "image/png": "[encoded data removed]",
            "text/plain": [
              "<Figure size 432x288 with 1 Axes>"
            ]
          },
          "metadata": {
            "needs_background": "light"
          }
        },
        {
          "output_type": "display_data",
          "data": {
            "image/png": "[encoded data removed]",
            "text/plain": [
              "<Figure size 432x288 with 1 Axes>"
            ]
          },
          "metadata": {
            "needs_background": "light"
          }
        },
        {
          "output_type": "display_data",
          "data": {
            "image/png": "[encoded data removed]",
            "text/plain": [
              "<Figure size 432x288 with 1 Axes>"
            ]
          },
          "metadata": {
            "needs_background": "light"
          }
        },
        {
          "output_type": "display_data",
          "data": {
            "image/png": "[encoded data removed]",
            "text/plain": [
              "<Figure size 432x288 with 1 Axes>"
            ]
          },
          "metadata": {
            "needs_background": "light"
          }
        },
        {
          "output_type": "display_data",
          "data": {
            "image/png": "[encoded data removed]",
            "text/plain": [
              "<Figure size 432x288 with 1 Axes>"
            ]
          },
          "metadata": {
            "needs_background": "light"
          }
        },
        {
          "output_type": "display_data",
          "data": {
            "image/png": "[encoded data removed]",
            "text/plain": [
              "<Figure size 432x288 with 1 Axes>"
            ]
          },
          "metadata": {
            "needs_background": "light"
          }
        },
        {
          "output_type": "display_data",
          "data": {
            "image/png": "[encoded data removed]",
            "text/plain": [
              "<Figure size 432x288 with 1 Axes>"
            ]
          },
          "metadata": {
            "needs_background": "light"
          }
        }
      ]
    }
  ]
}