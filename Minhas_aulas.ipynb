{
  "nbformat": 4,
  "nbformat_minor": 0,
  "metadata": {
    "colab": {
      "name": "Minhas aulas.ipynb",
      "provenance": [],
      "collapsed_sections": [],
      "authorship_tag": "ABX9TyMXtJzWfch7OvHit36WUEGd",
      "include_colab_link": true
    },
    "kernelspec": {
      "name": "python3",
      "display_name": "Python 3"
    },
    "language_info": {
      "name": "python"
    }
  },
  "cells": [
    {
      "cell_type": "markdown",
      "metadata": {
        "id": "view-in-github",
        "colab_type": "text"
      },
      "source": [
        "<a href=\"https://colab.research.google.com/github/pafernannapi18/GithubIntro/blob/main/Minhas_aulas.ipynb\" target=\"_parent\"><img src=\"https://colab.research.google.com/assets/colab-badge.svg\" alt=\"Open In Colab\"/></a>"
      ]
    },
    {
      "cell_type": "markdown",
      "source": [
        "[One](https://youtu.be/jgKnzLADI3g)\n",
        "[Two](https://youtu.be/d28__LLod8o)\n",
        "[Three](https://youtu.be/oNiBADoVgx0)\n",
        "[Four](https://youtu.be/CZlYmIydwP0)\n",
        "[Five](https://youtu.be/2zViwqF4ZqE)\n",
        "[Six](https://youtu.be/fs2SDhs3AYk)\n",
        "[Seven](https://youtu.be/FO9fcyAK_uo)\n",
        "[Eight](https://youtu.be/i3H1o2cEpRI)\n",
        "[Nine](https://youtu.be/NHLp54RcN7U)\n",
        "[Ten](https://youtu.be/U5mNkZfv8Po)\n",
        "[Eleven](https://youtu.be/ZLQDpFzr08Q)\n",
        "[Twelve](https://youtu.be/qfhWdoKCBw0)\n",
        "[Thirteen](https://youtu.be/M07pezhSolQ)\n",
        "[Fourteen](https://youtu.be/dOfbwFHyzIM)\n",
        "[Fifteen](https://youtu.be/1oGFoETtvRw)\n",
        "[Sixteen](https://youtu.be/PX9sjICZAJM)\n",
        "[Seventeen](https://youtu.be/MPf4tDol7yE)\n",
        "[Eighteen](https://youtu.be/0O1q5GyoVPw)\n",
        "[Nineteen](https://youtu.be/i37GSjZz45w)\n",
        "[Twenty](https://youtu.be/KdiOejUz-zE)"
      ],
      "metadata": {
        "id": "duS0mBxaD1Av"
      }
    },
    {
      "cell_type": "markdown",
      "source": [
        "[Tenty One](https://youtu.be/gsx3gd6eAI4)\n",
        "[Twenty two](https://youtu.be/noxX-U2k5AE)\n",
        "[Twenty Three](https://youtu.be/LIIK_xW_ul8)\n",
        "[Twenty Four](https://youtu.be/6QyN-QAZ8PM)\n",
        "[Twenty Five](https://youtu.be/dGHjRpAG5II)\n",
        "[Twenty Six](https://youtu.be/sePrE04KwUM)\n",
        "[Twenty Seven](https://youtu.be/OveVJbqAgdk)\n",
        "[Twenty Eight](https://youtu.be/IRdEfEDl4V8)\n",
        "[Twenty Nine](https://youtu.be/QKQGY-GLIJg)\n",
        "[Thirty](https://youtu.be/xqunzjG3rTM)\n",
        "[Thirty One](https://youtu.be/4jZ6DMMTQss)\n",
        "[Thirty Two](https://youtu.be/Y8RNM037RMA)\n",
        "[Thirty Three](https://youtu.be/5aZ_NAVFIbE)\n",
        "[Thirty Four](https://youtu.be/Lie2j9yK3vs)\n",
        "[Thirty Five](https://youtu.be/ZTB3yZr4nR4)\n",
        "[Thirty Six](https://youtu.be/Xo9veBqVCJM)\n",
        "[Thirty Seven](https://youtu.be/NmRCaoyeSHA)\n",
        "[Thirty Eight](https://youtu.be/09VLliXFC1g)\n",
        "[Thirty Nine](https://youtu.be/WK1sVMHT95Y)\n",
        "[Fourty](https://youtu.be/qmYueynalUw)\n"
      ],
      "metadata": {
        "id": "kwKlBpPZJeJq"
      }
    },
    {
      "cell_type": "markdown",
      "source": [
        "[Fourty One](https://youtu.be/yHKs-suyxD8)\n",
        "[Fourty Two](https://youtu.be/1aY3hOmAsgY)\n",
        "[Fourty Three](https://youtu.be/Cbq2JBBeZLk)\n",
        "[Fourty Four](https://youtu.be/ykhr6t1c-MI)\n",
        "[Fourty Five](https://youtu.be/StJh2AblXZI)\n",
        "[Fourty Six](https://youtu.be/ZgMrbLGnwjo)\n",
        "[Fourty Seven](https://youtu.be/bN5DMfRt8rw)\n",
        "[Fourty Eight](https://youtu.be/e1Brmx0oLaA)\n",
        "[Fourty Nine](https://youtu.be/oZLpVGo57eo)\n",
        "[Fifty](https://youtu.be/M79TRZ9Ip4c)\n",
        "[Fifty One](https://youtu.be/sm_g1zaXEeY)\n",
        "[Fifty Two](https://youtu.be/zTF702qS9Ks)\n",
        "[Fifty Three](https://youtu.be/YcFmdwFPX1Q)\n",
        "[Fifty Four](https://youtu.be/66RdEV-1HVo)\n",
        "[Fifty Five](https://youtu.be/z4SHcZrLk18)\n",
        "[Fifty Six](https://youtu.be/QyEcjA2MJPA)\n",
        "[Fifty Seven](https://youtu.be/wEi8QwHX4TM)\n",
        "[Fifty Eight](https://youtu.be/eMEZv1__GIE)\n",
        "[Fifty Nine](https://youtu.be/vM06u1wALWA)\n",
        "[Sixty](https://youtu.be/gJKm3cRNjj4)"
      ],
      "metadata": {
        "id": "VU1J8TQrNkkr"
      }
    },
    {
      "cell_type": "markdown",
      "source": [
        "[Sixty One](https://youtu.be/QlG6T_TJk9c)\n",
        "[Sixty Two](https://youtu.be/KdpqUPbPnNk)\n",
        "[Sixty Three](https://youtu.be/jT0kMEQqYaw)\n",
        "[Sixty Four](https://youtu.be/hPDvlWFy56I)\n",
        "[Sixty Five](https://youtu.be/m7rxO2fy96E)\n",
        "[Sixty Six](https://youtu.be/z7bYAdYQClQ)\n",
        "[Sixty Seven](https://youtu.be/GlP6JGodaIc)\n",
        "[Sixty Eight](https://youtu.be/hw3-hk2wKfc)\n",
        "[Sixty Nine](https://youtu.be/Nrk8cxvu7K8)\n",
        "[Seventy](https://youtu.be/eXb3z-qm5Ro)\n",
        "[Seventy One](https://youtu.be/6k0qY9C7-BQ)\n",
        "[Seventy Two](https://youtu.be/au7EobTosRQ)\n",
        "[Seventy Three](https://youtu.be/0-dbDtukMNw)\n",
        "[Seventy Four](https://youtu.be/9UpLX6mqXVQ)\n",
        "[Seventy Five](https://youtu.be/YwFpihMpGFI)\n",
        "[Seventy Six](https://youtu.be/TeJVpaYJOWk)\n",
        "[Seventy Seven](https://youtu.be/9UpLX6mqXVQ)\n",
        "[Seventy Eight](https://youtu.be/YwFpihMpGFI)\n",
        "[Seventy Nine](https://youtu.be/TeJVpaYJOWk)\n",
        "[Eighty](https://youtu.be/2-9ebsvhYdo)"
      ],
      "metadata": {
        "id": "8nQRXbEXQk0j"
      }
    },
    {
      "cell_type": "markdown",
      "source": [
        "[Eighty One](https://youtu.be/78Ar6EaNIg4)\n",
        "[Eighty Two](https://youtu.be/iJLm8I9iOMI)\n",
        "[Eighty Three](https://youtu.be/gIVNa6jdCA8)\n",
        "[Eighty Four](https://youtu.be/OurpidNed0E)\n",
        "[Eighty Five](https://youtu.be/UlcfCdsGoKI)\n",
        "[Eighty Six](https://youtu.be/byjE3KKQDDU)\n",
        "[Eighty Seven](https://youtu.be/ucEKaDGDGA4)\n",
        "[Eighty Eight](https://youtu.be/2F-ybSqc9Ys)\n",
        "[Eighty Nine](https://youtu.be/HLSRbpT-pc8)\n",
        "[Ninety](https://youtu.be/qK5wFlQ4Q-g)\n",
        "[Ninety One](https://youtu.be/iv1R4h5kbJk)\n",
        "[Ninety Two](https://youtu.be/aeMBOxYSxIQ)\n",
        "[Ninety Three](https://youtu.be/OkydkFq9k8A)\n",
        "[Ninety Four](https://youtu.be/-4Wa1dDSV2w)\n",
        "[Ninety Five](https://youtu.be/MMnqYv9Zcz0)\n",
        "[Ninety Six](https://youtu.be/iYPdAeG5d2I)\n",
        "[Ninety Seven](https://youtu.be/nmUj_HAkwYY)\n",
        "[Ninety Eight](https://youtu.be/LA5P2Iritts)\n",
        "[Ninety Nine](https://youtu.be/zazJ27maITA)\n",
        "[One Hundred](https://youtu.be/ofY0TzBEO-g)"
      ],
      "metadata": {
        "id": "GL5XS84KTWXF"
      }
    },
    {
      "cell_type": "markdown",
      "source": [
        "[One Hundred and One](https://youtu.be/0nbpwls-0XE)\n",
        "[One Hundred and Two](https://youtu.be/BljPecPwO6s)\n",
        "[One Hundred and Three](https://youtu.be/_DzaJ2bjtvc)\n",
        "[One Hundred and Four](https://youtu.be/6XzbJY-hw54)\n",
        "[One Hundred and Five](https://youtu.be/92IFpIPyndw)\n",
        "[One Hundred and six](https://youtu.be/fVDsXdRmiI0)\n",
        "[One Hundred and Seven](https://youtu.be/cPuxQQ5LjDM)\n",
        "[One Hundred and Ten](https://youtu.be/qxFSkpMsx6k)\n",
        "[One Hundred and Eleven](https://youtu.be/D6Qiw5M96HE)\n"
      ],
      "metadata": {
        "id": "RLUSUdpeY3FY"
      }
    }
  ]
}