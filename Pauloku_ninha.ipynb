{
  "nbformat": 4,
  "nbformat_minor": 0,
  "metadata": {
    "colab": {
      "name": "Pauloku ninha.ipynb",
      "provenance": [],
      "collapsed_sections": [],
      "authorship_tag": "ABX9TyOk7e7QXxhH1KtoCofSWUBa",
      "include_colab_link": true
    },
    "kernelspec": {
      "name": "python3",
      "display_name": "Python 3"
    },
    "language_info": {
      "name": "python"
    }
  },
  "cells": [
    {
      "cell_type": "markdown",
      "metadata": {
        "id": "view-in-github",
        "colab_type": "text"
      },
      "source": [
        "<a href=\"https://colab.research.google.com/github/pafernannapi18/GithubIntro/blob/main/Pauloku_ninha.ipynb\" target=\"_parent\"><img src=\"https://colab.research.google.com/assets/colab-badge.svg\" alt=\"Open In Colab\"/></a>"
      ]
    },
    {
      "cell_type": "markdown",
      "source": [
        "## [Problem 1] Forward propagation implementation of SimpleRNN"
      ],
      "metadata": {
        "id": "YhPRO_4fbU_z"
      }
    },
    {
      "cell_type": "code",
      "execution_count": 1,
      "metadata": {
        "id": "PzAb5vExaYQo"
      },
      "outputs": [],
      "source": [
        "def forward(x):\n",
        "    h = np.zeros((batch_size, n_nodes))\n",
        "    for n in range(n_sequences):\n",
        "        h = np.tanh(x[:, n, :] @ w_x + h @ w_h + b)\n",
        "    return h"
      ]
    },
    {
      "cell_type": "markdown",
      "source": [
        "## [Problem 2] Experiment of forward propagation with small sequence"
      ],
      "metadata": {
        "id": "GWjnhljQbeX9"
      }
    },
    {
      "cell_type": "code",
      "source": [
        "import pandas as pd\n",
        "import numpy as np\n",
        "\n",
        "x = np.array([[[1, 2], [2, 3], [3, 4]]])/100 # (batch_size, n_sequences, n_features)\n",
        "w_x = np.array([[1, 3, 5, 7], [3, 5, 7, 8]])/100 # (n_features, n_nodes)\n",
        "w_h = np.array([[1, 3, 5, 7], [2, 4, 6, 8], [3, 5, 7, 8], [4, 6, 8, 10]])/100 # (n_nodes, n_nodes)\n",
        "batch_size = x.shape[0] # 1\n",
        "n_sequences = x.shape[1] # 3\n",
        "n_features = x.shape[2] # 2\n",
        "n_nodes = w_x.shape[1] # 4\n",
        "h = np.zeros((batch_size, n_nodes)) # (batch_size, n_nodes)\n",
        "b = np.array([1, 1, 1, 1]) # (n_nodes,)"
      ],
      "metadata": {
        "id": "jpE4cfUnbfjb"
      },
      "execution_count": 3,
      "outputs": []
    },
    {
      "cell_type": "code",
      "source": [
        "forward(x)"
      ],
      "metadata": {
        "id": "DFLedX-ubkeN",
        "colab": {
          "base_uri": "https://localhost:8080/"
        },
        "outputId": "cf7ee796-d407-4f52-bfc3-0e8738a96bff"
      },
      "execution_count": 4,
      "outputs": [
        {
          "output_type": "execute_result",
          "data": {
            "text/plain": [
              "array([[0.79494228, 0.81839002, 0.83939649, 0.85584174]])"
            ]
          },
          "metadata": {},
          "execution_count": 4
        }
      ]
    },
    {
      "cell_type": "markdown",
      "source": [
        "The output is the same as the one on diver"
      ],
      "metadata": {
        "id": "GhriUhDsboY6"
      }
    },
    {
      "cell_type": "code",
      "source": [
        ""
      ],
      "metadata": {
        "id": "_wW66vVRbleh"
      },
      "execution_count": null,
      "outputs": []
    }
  ]
}