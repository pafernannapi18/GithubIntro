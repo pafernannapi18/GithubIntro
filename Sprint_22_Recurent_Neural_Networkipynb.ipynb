{
  "nbformat": 4,
  "nbformat_minor": 0,
  "metadata": {
    "colab": {
      "name": "Sprint 22 Recurent Neural Networkipynb",
      "provenance": [],
      "collapsed_sections": [],
      "authorship_tag": "ABX9TyNsvRQQ/hWn593QcEymAjA6",
      "include_colab_link": true
    },
    "kernelspec": {
      "name": "python3",
      "display_name": "Python 3"
    },
    "language_info": {
      "name": "python"
    }
  },
  "cells": [
    {
      "cell_type": "markdown",
      "metadata": {
        "id": "view-in-github",
        "colab_type": "text"
      },
      "source": [
        "<a href=\"https://colab.research.google.com/github/pafernannapi18/GithubIntro/blob/main/Sprint_22_Recurent_Neural_Networkipynb.ipynb\" target=\"_parent\"><img src=\"https://colab.research.google.com/assets/colab-badge.svg\" alt=\"Open In Colab\"/></a>"
      ]
    },
    {
      "cell_type": "markdown",
      "source": [
        "## [Problem 1] Forward propagation implementation of SimpleRNN"
      ],
      "metadata": {
        "id": "YhPRO_4fbU_z"
      }
    },
    {
      "cell_type": "code",
      "execution_count": 17,
      "metadata": {
        "id": "PzAb5vExaYQo"
      },
      "outputs": [],
      "source": [
        "def forward(x):\n",
        "    h = np.zeros((batch_size, n_nodes))\n",
        "    for n in range(n_sequences):\n",
        "        h = np.tanh(x[:, n, :] @ w_x + h @ w_h + b)\n",
        "    return h"
      ]
    },
    {
      "cell_type": "markdown",
      "source": [
        "## [Problem 2] Experiment of forward propagation with small sequence"
      ],
      "metadata": {
        "id": "GWjnhljQbeX9"
      }
    },
    {
      "cell_type": "code",
      "source": [
        "import pandas as pd\n",
        "import numpy as np\n",
        "\n",
        "x = np.array([[[1, 2], [2, 3], [3, 4]]])/100 # (batch_size, n_sequences, n_features)\n",
        "w_x = np.array([[1, 3, 5, 7], [3, 5, 7, 8]])/100 # (n_features, n_nodes)\n",
        "w_h = np.array([[1, 3, 5, 7], [2, 4, 6, 8], [3, 5, 7, 8], [4, 6, 8, 10]])/100 # (n_nodes, n_nodes)\n",
        "batch_size = x.shape[0] # 1\n",
        "n_sequences = x.shape[1] # 3\n",
        "n_features = x.shape[2] # 2\n",
        "n_nodes = w_x.shape[1] # 4\n",
        "h = np.zeros((batch_size, n_nodes)) # (batch_size, n_nodes)\n",
        "b = np.array([1, 1, 1, 1]) # (n_nodes,)"
      ],
      "metadata": {
        "id": "jpE4cfUnbfjb"
      },
      "execution_count": 18,
      "outputs": []
    },
    {
      "cell_type": "code",
      "source": [
        "forward(x)"
      ],
      "metadata": {
        "id": "DFLedX-ubkeN",
        "colab": {
          "base_uri": "https://localhost:8080/"
        },
        "outputId": "16148a8c-54f6-4adf-8f8b-6c3c836d4a7a"
      },
      "execution_count": 19,
      "outputs": [
        {
          "output_type": "execute_result",
          "data": {
            "text/plain": [
              "array([[0.79494228, 0.81839002, 0.83939649, 0.85584174]])"
            ]
          },
          "metadata": {},
          "execution_count": 19
        }
      ]
    },
    {
      "cell_type": "markdown",
      "source": [
        "The output is the same as the one on diver"
      ],
      "metadata": {
        "id": "GhriUhDsboY6"
      }
    },
    {
      "cell_type": "markdown",
      "source": [
        "### [Problem 3] (Advance assignment) Implementation of backpropagation"
      ],
      "metadata": {
        "id": "i0Jj4bzhVWlc"
      }
    },
    {
      "cell_type": "code",
      "source": [
        "class SimpleInitializer:\n",
        "  def __init__(self, sigma):\n",
        "    self.sigma = sigma\n",
        "\n",
        "  def W(self, n_nodes1, n_nodes2):\n",
        "    W = self.sigma * np.randn(n_nodes1, n_nodes2)\n",
        "    return W\n",
        "\n",
        "  def B(self, n_nodes2):\n",
        "    B = self.sigma * np.random.randn(1, n_nodes2)\n",
        "    return B      "
      ],
      "metadata": {
        "id": "_wW66vVRbleh"
      },
      "execution_count": 20,
      "outputs": []
    },
    {
      "cell_type": "code",
      "source": [
        "class SGD:\n",
        "  def __init__(self, lr):\n",
        "    self.lr = lr\n",
        "\n",
        "  def update(self, layer):\n",
        "    layer.Wx -= self.lr*layer.dWx\n",
        "    layer.Wh -= self.lr*layer.dWh\n",
        "    layer.B -= self.lr*layer.dB\n",
        "    return layer   "
      ],
      "metadata": {
        "id": "bnW_byU0ZblY"
      },
      "execution_count": 21,
      "outputs": []
    },
    {
      "cell_type": "code",
      "source": [
        "class Tanh:\n",
        "  def forward(self, A):\n",
        "    self.A = A\n",
        "    Z = np.tanh(self.A)\n",
        "    return Z\n",
        "  def backward(self, dZ):\n",
        "    dA = dZ * (1 - np.tanh(self.A)**2)\n",
        "    return dA  "
      ],
      "metadata": {
        "id": "PKKAbRfdaz1y"
      },
      "execution_count": 22,
      "outputs": []
    },
    {
      "cell_type": "code",
      "source": [
        "class ScratchSimpleRNNClassifier:\n",
        "  def __init__(self,):\n",
        "    self.Wx = np.array([[1, 3, 5, 7], [3, 5, 7, 8]])/100\n",
        "    self.Wh = np.array([[1, 3, 5, 7], [2, 4, 6, 8], [3, 5, 7, 8], [4, 6, 8, 10]])/100\n",
        "    self.b = np.array([1, 1, 1, 1])\n",
        "    self.dB = 0\n",
        "    self.dWx = 0\n",
        "    self.dWh = 0\n",
        "    self.activator = Tanh()\n",
        "    self.optimizer = SGD(lr=0.001)\n",
        "    self.h_his = []\n",
        "\n",
        "  def forward(self, x):\n",
        "    self.x = x.copy()\n",
        "    batch_size = x.shape[0]\n",
        "    self.n_sequences = x.shape[1]\n",
        "    n_features = x.shape[2]\n",
        "    n_nodes = w_x.shape[1]\n",
        "    h = np.zeros((batch_size, n_nodes))\n",
        "    for n in range(self.n_sequences):\n",
        "      A = x[:, n, :] @ self.Wx + h @ self.Wh + self.b\n",
        "      h = self.activator.forward(A)\n",
        "      self.h_his.append(h)\n",
        "    return h\n",
        "  def backward(self, dh):\n",
        "    dA = self.activator.backward(dh)\n",
        "    for n in range(self.n_features)[::-1]:\n",
        "      self.dB += np.sum(dA, axis=0)\n",
        "      self.dWx += x[:, n, :].T @ dA\n",
        "      self.dWh += h[n].T @ dA\n",
        "    dx = dA @ Wx\n",
        "    dh = dA @ Wh\n",
        "    return dx, dh  "
      ],
      "metadata": {
        "id": "vQ_XtJ-vbrs_"
      },
      "execution_count": 23,
      "outputs": []
    },
    {
      "cell_type": "markdown",
      "source": [
        "Testing "
      ],
      "metadata": {
        "id": "hTl2l6Q7isV6"
      }
    },
    {
      "cell_type": "code",
      "source": [
        "test = ScratchSimpleRNNClassifier()\n",
        "test.forward(x)"
      ],
      "metadata": {
        "colab": {
          "base_uri": "https://localhost:8080/"
        },
        "id": "5kTbc7qIikU0",
        "outputId": "f733db38-ffa0-4803-eaa3-316fb766005e"
      },
      "execution_count": 25,
      "outputs": [
        {
          "output_type": "execute_result",
          "data": {
            "text/plain": [
              "array([[0.79494228, 0.81839002, 0.83939649, 0.85584174]])"
            ]
          },
          "metadata": {},
          "execution_count": 25
        }
      ]
    }
  ]
}