{
  "nbformat": 4,
  "nbformat_minor": 0,
  "metadata": {
    "colab": {
      "name": "Treatise Sprint .ipynb",
      "provenance": [],
      "collapsed_sections": [],
      "authorship_tag": "ABX9TyM5CAbgcCbStJ6lduwErPXP",
      "include_colab_link": true
    },
    "kernelspec": {
      "name": "python3",
      "display_name": "Python 3"
    },
    "language_info": {
      "name": "python"
    }
  },
  "cells": [
    {
      "cell_type": "markdown",
      "metadata": {
        "id": "view-in-github",
        "colab_type": "text"
      },
      "source": [
        "<a href=\"https://colab.research.google.com/github/pafernannapi18/GithubIntro/blob/main/Treatise_Sprint_.ipynb\" target=\"_parent\"><img src=\"https://colab.research.google.com/assets/colab-badge.svg\" alt=\"Open In Colab\"/></a>"
      ]
    },
    {
      "cell_type": "code",
      "execution_count": null,
      "metadata": {
        "id": "s4KatXWbYVHl"
      },
      "outputs": [],
      "source": [
        ""
      ]
    },
    {
      "cell_type": "markdown",
      "source": [
        "(1) What kind of method existed in the field of object detection?\n",
        "SPPNet (Reference: Spatial Pyramid Pooling in Deep Convolutional Networks for Visual Recognition)\n",
        "\n",
        " A method to improve the recognition accuracy of images of any size / scale regardless of the size of the input image. By using the spatial pyramid pooling layer, it is also possible to recognize rectangular objects, so it is also used in object detection technology. R-CNN (Reference: Contextual Action Recognition with R * CNN)\n",
        "\n",
        "When recognizing the behavior of a person or the attribute of an object in an image, not only the localized information itself but also the surrounding information is included as a feature to perform image recognition that takes into account the context and background in the image. Method [Rationale in the treatise]\n",
        "\n",
        "Abstract: (2 ~ 3) Advances like SPPnet [1] and Fast R-CNN [2] have reduced the running time of these detection networks, exposing region proposal computation as a bottleneck\n",
        "\n",
        "(2) There is Faster, but how did you speed it up?\n",
        "Since the time spent on region proposal was the biggest bottleneck in the conventional method, the region proposal method by Selective Search was replaced with a small convolutional network called RPN (Region Proposal Network), and the region proposal was performed on the RPN. Achieved near real-time calculation speed by performing object detection [Rationale in the treatise]\n",
        "\n",
        "Introduction: Introduction: (page1) The latest incarnation, Fast R-CNN [2], achieves near real-time rates using very deep networks [3], when ignoring the time spent on region proposals.\n",
        "\n",
        "(3) What is the difference between the One-Stage method and the Two-Stage method?\n",
        "Object detection methods using neural networks are classified into One-Stage Detection and Two-Stage Detection, respectively, depending on whether the detection is performed in one step or two steps. One-Stage Detection performs Bounding Box generation and class prediction at the same time. One-Stage Detection has a simple structure and can be expected to speed up learning and inference. Detection accuracy tends to be inferior to Two-Stage Detection. In Two-Stage Detection, Bounding Box candidates are first extracted in the first stage. Then, in the second stage, class prediction and BoundingBox modification are performed, and the final prediction result is generated. [Rationale in the treatise]\n",
        "\n",
        "(page10) The OverFeat paper [9] proposes a detection method that uses regressors and classifiers on sliding windows over convolutional feature maps. OverFeat is a one-stage, class-specific detection pipeline, and ours is a two-stage cascade consisting of class -agnostic proposals and class-specific detections. [Reference treatise]\n",
        "\n",
        "OverFeat: Integrated Recognition, Localization and Detection using Convolutional Networks\n",
        "\n",
        "(4) What is RPN?\n",
        "RPN is a machine learning model that can detect \"where an object appears in a certain image\" = \"where the object appears and its rectangular shape\". [Rationale in the treatise]\n",
        "\n",
        "(4) What is RPN? [Solution]\n",
        "\n",
        "RPN is a machine learning model that can detect \"where an object appears in a certain image\" = \"where the object appears and its rectangular shape\". [Rationale in the treatise]\n",
        "\n",
        "Introduction (page1) The RPN is thus a kind of fully convolutional network (FCN) [7] and can be trained end-toend specifically for the task for generating detection proposals.\n",
        "\n",
        "(5) What is RoI pooling?\n",
        "RoI Pooling has the role of making the input to the classifying layer a fixed dimension. By cutting out the feature map corresponding to the area of the object candidate by RoI Pooling, the feature extraction is standardized and speeded up. A method of fixing dimensions even when the size of the image is different [Rationale in the treatise]\n",
        "\n",
        "(page6) The RoI pooling layer [2] in Fast R-CNN accepts the convolutional features and also the predicted bounding boxes as input, so a theoretically valid backpropagation solver should also involve gradients wrt the box coordinates. These gradients are ignored in the above In a non-approximate joint training solution, we need an RoI pooling layer that is differentiable wrt the box coordinates.\n",
        "\n",
        "(6) What is the appropriate size of Anchor?\n",
        "Anchor is a rectangle that shows the area of an object, which is generated at regular intervals in the image and used in the Loss Function. The following 3 x 3 = 9 patterns are used in the paper experiments.\n",
        "\n",
        "Scale: , ,  Aspect ratio: 1: 1, 1: 2, 2: 1 Anchor should be tuned depending on the domain. [Rationale in the treatise]\n",
        "\n",
        "(page6) For anchors, we use 3 scales with box areas of , , and  pixels, and 3 aspect ratios of 1: 1, 1: 2, and 2: 1. These hyper-parameters are not carefully chosen for a particular dataset, and we provide ablation experiments on their effects in the next section.\n",
        "\n",
        "(7) What kind of data set is used and what kind of index value is obtained compared to the previous research?\n",
        "Trial dataset: MS COCO dataset\n",
        "\n",
        "Comparison results with previous studies\n",
        "\n",
        "Table 11: Object dection results (%) on the ms coco dataset. This model is VGG-16\n",
        "\n"
      ],
      "metadata": {
        "id": "69-LKB8dYaMW"
      }
    },
    {
      "cell_type": "code",
      "source": [
        ""
      ],
      "metadata": {
        "id": "-_x4qXnnYmlA"
      },
      "execution_count": null,
      "outputs": []
    }
  ]
}